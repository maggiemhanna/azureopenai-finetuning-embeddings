{
  "cells": [
    {
      "cell_type": "markdown",
      "source": [
        "# Connecting to Azure Open AI"
      ],
      "metadata": {
        "nteract": {
          "transient": {
            "deleting": false
          }
        }
      }
    },
    {
      "cell_type": "code",
      "source": [
        "import os\r\n",
        "import openai\r\n",
        "\r\n",
        "# Azure OpenAI \r\n",
        "# Insert your API endpoint URL & key\r\n",
        "openai.api_type = \"azure\"\r\n",
        "openai.api_version = \"2022-12-01\"\r\n",
        "openai.api_base = \"\"\r\n",
        "openai.api_key = \"\""
      ],
      "outputs": [],
      "execution_count": 2,
      "metadata": {
        "jupyter": {
          "source_hidden": false,
          "outputs_hidden": false
        },
        "nteract": {
          "transient": {
            "deleting": false
          }
        },
        "gather": {
          "logged": 1676883156352
        }
      }
    },
    {
      "cell_type": "code",
      "source": [
        "!openai tools fine_tunes.prepare_data -f fifa-data/fifa_qa.jsonl -q"
      ],
      "outputs": [
        {
          "output_type": "stream",
          "name": "stdout",
          "text": "Analyzing...\n\n- Your file contains 3199 prompt-completion pairs\n- There are 837 duplicated prompt-completion sets. These are rows: [136, 137, 138, 168, 169, 170, 188, 189, 190, 204, 205, 206, 207, 208, 209, 287, 288, 289, 306, 307, 308, 309, 310, 311, 312, 313, 314, 315, 316, 317, 318, 319, 320, 321, 322, 323, 324, 325, 326, 327, 328, 329, 330, 331, 332, 333, 334, 335, 336, 337, 338, 348, 354, 355, 356, 364, 365, 366, 378, 379, 380, 381, 382, 383, 384, 385, 386, 413, 414, 415, 416, 417, 418, 496, 497, 498, 526, 527, 528, 543, 544, 545, 553, 554, 555, 596, 597, 598, 630, 631, 632, 660, 661, 662, 686, 687, 688, 689, 690, 691, 692, 693, 694, 695, 696, 697, 698, 699, 700, 701, 702, 703, 745, 746, 747, 748, 749, 750, 751, 752, 753, 754, 755, 756, 757, 758, 759, 762, 763, 764, 769, 793, 794, 795, 796, 797, 798, 799, 800, 801, 802, 803, 804, 805, 806, 807, 808, 809, 810, 811, 812, 813, 814, 815, 816, 817, 818, 819, 820, 821, 822, 823, 824, 825, 826, 827, 828, 829, 830, 831, 832, 833, 834, 835, 836, 837, 838, 839, 840, 841, 842, 843, 846, 849, 856, 857, 858, 866, 869, 870, 871, 872, 888, 889, 890, 902, 920, 921, 922, 942, 951, 954, 955, 956, 957, 958, 959, 960, 968, 978, 983, 984, 985, 986, 997, 998, 999, 1006, 1007, 1008, 1018, 1019, 1020, 1021, 1022, 1023, 1024, 1025, 1026, 1052, 1053, 1054, 1063, 1064, 1065, 1077, 1078, 1079, 1090, 1091, 1092, 1109, 1110, 1111, 1126, 1127, 1128, 1137, 1139, 1140, 1141, 1153, 1154, 1155, 1165, 1166, 1167, 1180, 1181, 1182, 1191, 1193, 1205, 1206, 1207, 1208, 1209, 1210, 1211, 1212, 1213, 1243, 1301, 1302, 1303, 1304, 1305, 1306, 1309, 1311, 1312, 1313, 1314, 1315, 1342, 1343, 1344, 1355, 1356, 1357, 1358, 1359, 1360, 1363, 1364, 1365, 1366, 1367, 1368, 1371, 1376, 1377, 1378, 1383, 1384, 1385, 1386, 1387, 1388, 1391, 1393, 1394, 1395, 1397, 1403, 1404, 1405, 1406, 1407, 1413, 1414, 1445, 1446, 1447, 1448, 1449, 1450, 1463, 1464, 1465, 1513, 1514, 1515, 1516, 1517, 1518, 1538, 1544, 1545, 1546, 1547, 1548, 1549, 1550, 1551, 1552, 1553, 1554, 1555, 1556, 1557, 1558, 1559, 1560, 1561, 1562, 1563, 1564, 1578, 1600, 1601, 1602, 1603, 1604, 1625, 1626, 1627, 1662, 1663, 1664, 1701, 1702, 1703, 1743, 1744, 1745, 1755, 1756, 1757, 1758, 1759, 1760, 1763, 1765, 1766, 1767, 1768, 1769, 1773, 1774, 1775, 1789, 1795, 1796, 1797, 1798, 1799, 1805, 1806, 1807, 1822, 1823, 1824, 1830, 1831, 1832, 1833, 1834, 1835, 1841, 1842, 1843, 1855, 1856, 1857, 1863, 1864, 1865, 1873, 1874, 1875, 1876, 1877, 1878, 1882, 1883, 1884, 1885, 1886, 1887, 1891, 1893, 1894, 1895, 1896, 1902, 1903, 1904, 1905, 1906, 1907, 1910, 1912, 1913, 1914, 1915, 1916, 1921, 1922, 1923, 1924, 1925, 1926, 1927, 1928, 1954, 1955, 1956, 1966, 1969, 1970, 1971, 1972, 1973, 1974, 1975, 1976, 1977, 1978, 1979, 1980, 1981, 1982, 1983, 1984, 1985, 1986, 1987, 1988, 1989, 1990, 1991, 1992, 1993, 1994, 1995, 1996, 1997, 1998, 2004, 2005, 2006, 2017, 2019, 2020, 2021, 2022, 2023, 2024, 2025, 2026, 2027, 2049, 2054, 2056, 2057, 2058, 2059, 2060, 2061, 2062, 2063, 2064, 2065, 2066, 2067, 2068, 2069, 2070, 2071, 2072, 2073, 2074, 2075, 2076, 2077, 2078, 2079, 2080, 2081, 2082, 2083, 2084, 2085, 2096, 2100, 2108, 2109, 2110, 2128, 2129, 2130, 2131, 2132, 2133, 2138, 2139, 2140, 2141, 2142, 2143, 2147, 2148, 2149, 2150, 2151, 2164, 2165, 2166, 2167, 2168, 2169, 2206, 2210, 2216, 2231, 2232, 2233, 2234, 2235, 2236, 2237, 2238, 2239, 2240, 2241, 2242, 2243, 2244, 2245, 2246, 2247, 2248, 2261, 2262, 2263, 2264, 2265, 2266, 2268, 2270, 2271, 2272, 2297, 2298, 2299, 2300, 2301, 2302, 2332, 2333, 2334, 2359, 2360, 2361, 2362, 2363, 2364, 2365, 2366, 2367, 2381, 2382, 2383, 2384, 2385, 2386, 2390, 2391, 2392, 2393, 2394, 2395, 2405, 2406, 2407, 2412, 2413, 2414, 2415, 2416, 2417, 2426, 2427, 2428, 2469, 2470, 2471, 2472, 2473, 2474, 2475, 2476, 2477, 2496, 2497, 2498, 2499, 2500, 2501, 2502, 2503, 2504, 2505, 2506, 2507, 2508, 2509, 2510, 2511, 2512, 2513, 2514, 2515, 2516, 2517, 2518, 2519, 2520, 2521, 2522, 2525, 2526, 2527, 2528, 2529, 2530, 2533, 2534, 2535, 2536, 2537, 2538, 2539, 2540, 2541, 2542, 2543, 2544, 2545, 2546, 2547, 2548, 2549, 2550, 2551, 2552, 2553, 2554, 2555, 2556, 2557, 2560, 2567, 2586, 2591, 2592, 2593, 2594, 2595, 2596, 2599, 2600, 2602, 2603, 2604, 2605, 2606, 2607, 2608, 2609, 2610, 2615, 2616, 2617, 2618, 2619, 2620, 2622, 2624, 2625, 2626, 2627, 2628, 2629, 2630, 2631, 2632, 2633, 2634, 2637, 2640, 2641, 2642, 2643, 2644, 2645, 2646, 2702, 2703, 2704, 2705, 2706, 2712, 2713, 2740, 2741, 2742, 2743, 2744, 2753, 2777, 2778, 2779, 2787, 2788, 2789, 2823, 2824, 2825, 2826, 2827, 2832, 2833, 2859, 2860, 2861, 2862, 2863, 2868, 2869, 2870, 2871, 2872, 2873, 2875, 2877, 2878, 2879, 2880, 2881, 2887, 2888, 2889, 2890, 2891, 2892, 2894, 2895, 2897, 2898, 2899, 2900, 2901, 2905, 2906, 2907, 2931, 2932, 2933, 2953, 2954, 2955, 2984, 2985, 2986, 3028, 3029, 3030, 3057, 3058, 3059, 3084, 3085, 3086, 3109, 3110, 3111, 3112, 3113, 3119, 3148, 3150, 3151, 3152, 3153, 3174]\n- All prompts end with suffix `?`\n- Your data does not contain a common ending at the end of your completions. Having a common ending string appended to the end of the completion makes it clearer to the fine-tuned model where the completion should end. See https://beta.openai.com/docs/guides/fine-tuning/preparing-your-dataset for more detail and examples.\n- The completion should start with a whitespace character (` `). This tends to produce better results due to the tokenization we use. See https://beta.openai.com/docs/guides/fine-tuning/preparing-your-dataset for more details\n\nBased on the analysis we will perform the following actions:\n- [Recommended] Remove 837 duplicate rows [Y/n]: Y\n- [Recommended] Add a suffix ending ` END` to all completions [Y/n]: Y\n/anaconda/envs/azureml_py38/lib/python3.8/site-packages/openai/validators.py:378: SettingWithCopyWarning: \nA value is trying to be set on a copy of a slice from a DataFrame.\nTry using .loc[row_indexer,col_indexer] = value instead\n\nSee the caveats in the documentation: https://pandas.pydata.org/pandas-docs/stable/user_guide/indexing.html#returning-a-view-versus-a-copy\n  x[\"completion\"] += suffix\n- [Recommended] Add a whitespace character to the beginning of the completion [Y/n]: Y\n/anaconda/envs/azureml_py38/lib/python3.8/site-packages/openai/validators.py:421: SettingWithCopyWarning: \nA value is trying to be set on a copy of a slice from a DataFrame.\nTry using .loc[row_indexer,col_indexer] = value instead\n\nSee the caveats in the documentation: https://pandas.pydata.org/pandas-docs/stable/user_guide/indexing.html#returning-a-view-versus-a-copy\n  x[\"completion\"] = x[\"completion\"].apply(\n\n\nYour data will be written to a new JSONL file. Proceed [Y/n]: Y\n\nWrote modified file to `fifa-data/fifa_wiki_qa_prepared.jsonl`\nFeel free to take a look!\n\nNow use that file when fine-tuning:\n> openai api fine_tunes.create -t \"fifa-data/fifa_wiki_qa_prepared.jsonl\"\n\nAfter you’ve fine-tuned a model, remember that your prompt has to end with the indicator string `?` for the model to start generating completions, rather than continuing with the prompt. Make sure to include `stop=[\" END\"]` so that the generated texts ends at the expected place.\nOnce your model starts training, it'll approximately take 1.8 hours to train a `curie` model, and less for `ada` and `babbage`. Queue will approximately take half an hour per job ahead of you.\n"
        }
      ],
      "execution_count": 29,
      "metadata": {
        "jupyter": {
          "source_hidden": false,
          "outputs_hidden": false
        },
        "nteract": {
          "transient": {
            "deleting": false
          }
        }
      }
    },
    {
      "cell_type": "code",
      "source": [
        "!openai api fine_tunes.create -t \"fifa-data/fifa_qa_prepared.jsonl\" -m davinci --suffix \"world cup 2022\""
      ],
      "outputs": [
        {
          "output_type": "stream",
          "name": "stdout",
          "text": "Upload progress: 100%|███████████████████████| 424k/424k [00:00<00:00, 468Mit/s]\nUploaded file from fifa-data/fifa_wiki_qa_prepared.jsonl: file-XTzOH15VK7I8pPfJcyksx8GU\nCreated fine-tune: ft-U98OejdQvjYzc6x5wjKAijts\nStreaming events until fine-tuning is complete...\n\n(Ctrl-C will interrupt the stream, but not cancel the fine-tune)\n[2023-02-09 15:11:07] Created fine-tune: ft-U98OejdQvjYzc6x5wjKAijts\n\nStream interrupted (client disconnected).\nTo resume the stream, run:\n\n  openai api fine_tunes.follow -i ft-U98OejdQvjYzc6x5wjKAijts\n\n"
        }
      ],
      "execution_count": 30,
      "metadata": {
        "jupyter": {
          "source_hidden": false,
          "outputs_hidden": false
        },
        "nteract": {
          "transient": {
            "deleting": false
          }
        }
      }
    },
    {
      "cell_type": "code",
      "source": [
        "!openai api fine_tunes.follow -i ft-U98OejdQvjYzc6x5wjKAijts"
      ],
      "outputs": [
        {
          "output_type": "stream",
          "name": "stdout",
          "text": "[2023-02-09 15:11:07] Created fine-tune: ft-U98OejdQvjYzc6x5wjKAijts\n[2023-02-09 15:16:43] Fine-tune costs $8.84\n[2023-02-09 15:16:44] Fine-tune enqueued\n[2023-02-09 16:01:22] Fine-tune is in the queue. Queue number: 31\n[2023-02-09 16:02:27] Fine-tune is in the queue. Queue number: 30\n[2023-02-09 16:05:07] Fine-tune is in the queue. Queue number: 29\n[2023-02-09 16:07:28] Fine-tune is in the queue. Queue number: 28\n[2023-02-09 16:07:30] Fine-tune is in the queue. Queue number: 27\n[2023-02-09 16:09:53] Fine-tune is in the queue. Queue number: 26\n[2023-02-09 16:11:00] Fine-tune is in the queue. Queue number: 25\n[2023-02-09 16:12:12] Fine-tune is in the queue. Queue number: 24\n[2023-02-09 16:13:08] Fine-tune is in the queue. Queue number: 23\n[2023-02-09 16:15:01] Fine-tune is in the queue. Queue number: 22\n[2023-02-09 16:15:26] Fine-tune is in the queue. Queue number: 21\n[2023-02-09 16:17:19] Fine-tune is in the queue. Queue number: 20\n[2023-02-09 16:17:39] Fine-tune is in the queue. Queue number: 19\n[2023-02-09 16:18:18] Fine-tune is in the queue. Queue number: 18\n[2023-02-09 16:20:17] Fine-tune is in the queue. Queue number: 17\n[2023-02-09 16:20:37] Fine-tune is in the queue. Queue number: 16\n[2023-02-09 16:23:26] Fine-tune is in the queue. Queue number: 15\n[2023-02-09 16:25:38] Fine-tune is in the queue. Queue number: 14\n[2023-02-09 16:26:25] Fine-tune is in the queue. Queue number: 13\n[2023-02-09 16:28:28] Fine-tune is in the queue. Queue number: 12\n[2023-02-09 16:28:54] Fine-tune is in the queue. Queue number: 11\n[2023-02-09 16:29:08] Fine-tune is in the queue. Queue number: 10\n[2023-02-09 16:31:46] Fine-tune is in the queue. Queue number: 9\n[2023-02-09 16:35:21] Fine-tune is in the queue. Queue number: 8\n[2023-02-09 16:39:22] Fine-tune is in the queue. Queue number: 7\n[2023-02-09 16:39:29] Fine-tune is in the queue. Queue number: 6\n[2023-02-09 16:39:30] Fine-tune is in the queue. Queue number: 5\n[2023-02-09 16:39:32] Fine-tune is in the queue. Queue number: 4\n[2023-02-09 16:43:02] Fine-tune is in the queue. Queue number: 3\n[2023-02-09 16:43:21] Fine-tune is in the queue. Queue number: 2\n[2023-02-09 16:45:08] Fine-tune is in the queue. Queue number: 1\n[2023-02-09 16:45:14] Fine-tune is in the queue. Queue number: 0\n[2023-02-09 16:47:32] Fine-tune started\n[2023-02-09 16:58:31] Completed epoch 1/4\n[2023-02-09 17:07:52] Completed epoch 2/4\n[2023-02-09 17:17:16] Completed epoch 3/4\n[2023-02-09 17:26:36] Completed epoch 4/4\n[2023-02-09 17:27:13] Uploaded model: davinci:ft-microsoft:world-cup-2022-2023-02-09-17-27-13\n[2023-02-09 17:27:15] Uploaded result file: file-u8YrIpvQhcMaWLpOrJOwi5BB\n[2023-02-09 17:27:15] Fine-tune succeeded\n\nJob complete! Status: succeeded 🎉\nTry out your fine-tuned model:\n\nopenai api completions.create -m davinci:ft-microsoft:world-cup-2022-2023-02-09-17-27-13 -p <YOUR_PROMPT>\n"
        }
      ],
      "execution_count": 34,
      "metadata": {
        "jupyter": {
          "source_hidden": false,
          "outputs_hidden": false
        },
        "nteract": {
          "transient": {
            "deleting": false
          }
        },
        "gather": {
          "logged": 1675875426519
        }
      }
    },
    {
      "cell_type": "markdown",
      "source": [
        "# Use Base Model"
      ],
      "metadata": {
        "nteract": {
          "transient": {
            "deleting": false
          }
        }
      }
    },
    {
      "cell_type": "code",
      "source": [
        "model = 'text-davinci-003'\r\n",
        "res = openai.Completion.create(model=model, prompt=\"Who won Fifa World Cup 2022?\", max_tokens=100, temperature=0)\r\n",
        "res['choices'][0]['text']"
      ],
      "outputs": [
        {
          "output_type": "execute_result",
          "execution_count": 3,
          "data": {
            "text/plain": "'\\n\\nThe 2022 FIFA World Cup has not yet been played, so no one has won it yet.'"
          },
          "metadata": {}
        }
      ],
      "execution_count": 3,
      "metadata": {
        "jupyter": {
          "source_hidden": false,
          "outputs_hidden": false
        },
        "nteract": {
          "transient": {
            "deleting": false
          }
        },
        "gather": {
          "logged": 1676883169619
        }
      }
    },
    {
      "cell_type": "markdown",
      "source": [
        "# Use Finetuned Model"
      ],
      "metadata": {
        "nteract": {
          "transient": {
            "deleting": false
          }
        }
      }
    },
    {
      "cell_type": "code",
      "source": [
        "ft_model = 'davinci:ft-microsoft:world-cup-2022-2023-02-09-17-27-13'\r\n",
        "res = openai.Completion.create(model=ft_model, prompt=\"Who won Fifa World Cup 2022?\", max_tokens=1, temperature=0)\r\n",
        "res['choices'][0]['text']"
      ],
      "outputs": [
        {
          "output_type": "execute_result",
          "execution_count": 4,
          "data": {
            "text/plain": "' Argentina'"
          },
          "metadata": {}
        }
      ],
      "execution_count": 4,
      "metadata": {
        "jupyter": {
          "source_hidden": false,
          "outputs_hidden": false
        },
        "nteract": {
          "transient": {
            "deleting": false
          }
        },
        "gather": {
          "logged": 1676883202268
        }
      }
    }
  ],
  "metadata": {
    "kernelspec": {
      "name": "python310-sdkv2",
      "language": "python",
      "display_name": "Python 3.10 - SDK V2"
    },
    "language_info": {
      "name": "python",
      "version": "3.10.6",
      "mimetype": "text/x-python",
      "codemirror_mode": {
        "name": "ipython",
        "version": 3
      },
      "pygments_lexer": "ipython3",
      "nbconvert_exporter": "python",
      "file_extension": ".py"
    },
    "kernel_info": {
      "name": "python310-sdkv2"
    },
    "nteract": {
      "version": "nteract-front-end@1.0.0"
    },
    "microsoft": {
      "host": {
        "AzureML": {
          "notebookHasBeenCompleted": true
        }
      },
      "ms_spell_check": {
        "ms_spell_check_language": "en"
      }
    }
  },
  "nbformat": 4,
  "nbformat_minor": 2
}