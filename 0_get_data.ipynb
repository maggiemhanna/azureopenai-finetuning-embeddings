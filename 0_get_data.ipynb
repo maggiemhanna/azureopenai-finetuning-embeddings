{
  "cells": [
    {
      "cell_type": "code",
      "source": [
        "import pandas as pd\r\n",
        "import warnings\r\n",
        "from pprint import pprint\r\n",
        "\r\n",
        "from src import wiki, news, twitter\r\n",
        "warnings.filterwarnings(\"ignore\")"
      ],
      "outputs": [],
      "execution_count": 2,
      "metadata": {
        "jupyter": {
          "source_hidden": false,
          "outputs_hidden": false
        },
        "nteract": {
          "transient": {
            "deleting": false
          }
        },
        "gather": {
          "logged": 1676811395731
        }
      }
    },
    {
      "cell_type": "markdown",
      "source": [
        "# Wikipedia"
      ],
      "metadata": {
        "nteract": {
          "transient": {
            "deleting": false
          }
        }
      }
    },
    {
      "cell_type": "markdown",
      "source": [
        "Retrieve Wikipedia pages that have titles matching a particular topic of interest, and then extract the relevant sections from those pages.\r\n",
        "\r\n",
        "Next, examine all the articles referenced within these pages. If a referenced article is relevant to the topic of interest and contains specific keywords, retrieve the pages of those articles as well.\r\n"
      ],
      "metadata": {
        "nteract": {
          "transient": {
            "deleting": false
          }
        }
      }
    },
    {
      "cell_type": "code",
      "source": [
        "# Extract sections from Wikipedia articles for the listed titles.\r\n",
        "# And recursiverly extract all linked articles, filter given the keywords.\r\n",
        "\r\n",
        "df_wiki = wiki.get_wiki_pages(titles = [\"2022 FIFA World Cup\"], \r\n",
        "                         keywords = [\"2022\", \"fifa\", \"world\", \"cup\"])"
      ],
      "outputs": [
        {
          "output_type": "stream",
          "name": "stdout",
          "text": "Number of wiki pages: 59\nNumber of wiki sections: 754\n"
        }
      ],
      "execution_count": 5,
      "metadata": {
        "jupyter": {
          "source_hidden": false,
          "outputs_hidden": false
        },
        "nteract": {
          "transient": {
            "deleting": false
          }
        },
        "gather": {
          "logged": 1676811583998
        }
      }
    },
    {
      "cell_type": "markdown",
      "source": [
        "Examples of titles/sections extracted:"
      ],
      "metadata": {
        "nteract": {
          "transient": {
            "deleting": false
          }
        }
      }
    },
    {
      "cell_type": "code",
      "source": [
        "df_wiki.head(10)"
      ],
      "outputs": [
        {
          "output_type": "execute_result",
          "execution_count": 3,
          "data": {
            "text/plain": "  source                title                         heading  \\\n0   wiki  2022 FIFA World Cup                         Summary   \n1   wiki  2022 FIFA World Cup                        Overview   \n2   wiki  2022 FIFA World Cup                        Schedule   \n3   wiki  2022 FIFA World Cup                     Prize money   \n4   wiki  2022 FIFA World Cup                    Rule changes   \n5   wiki  2022 FIFA World Cup                  Host selection   \n6   wiki  2022 FIFA World Cup        Host selection criticism   \n7   wiki  2022 FIFA World Cup  Cost of hosting the tournament   \n8   wiki  2022 FIFA World Cup                          Venues   \n9   wiki  2022 FIFA World Cup                        Stadiums   \n\n                                                text  words  \n0  The 2022 FIFA World Cup was an international f...    354  \n1  The FIFA World Cup is a professional football ...    129  \n2  Unlike previous FIFA World Cups, which are typ...    276  \n3  In April 2022, FIFA announced the prizes for a...     54  \n4  The tournament featured new substitution rules...     99  \n5  The bidding procedure to host the 2018 and 202...    191  \n6  There have been allegations of bribery and cor...    668  \n7  At an estimated cost of over $220 billion, it ...     58  \n8  The first five proposed venues for the World C...    459  \n9  Team base camps \\nBase camps were used by the ...    102  ",
            "text/html": "<div>\n<style scoped>\n    .dataframe tbody tr th:only-of-type {\n        vertical-align: middle;\n    }\n\n    .dataframe tbody tr th {\n        vertical-align: top;\n    }\n\n    .dataframe thead th {\n        text-align: right;\n    }\n</style>\n<table border=\"1\" class=\"dataframe\">\n  <thead>\n    <tr style=\"text-align: right;\">\n      <th></th>\n      <th>source</th>\n      <th>title</th>\n      <th>heading</th>\n      <th>text</th>\n      <th>words</th>\n    </tr>\n  </thead>\n  <tbody>\n    <tr>\n      <th>0</th>\n      <td>wiki</td>\n      <td>2022 FIFA World Cup</td>\n      <td>Summary</td>\n      <td>The 2022 FIFA World Cup was an international f...</td>\n      <td>354</td>\n    </tr>\n    <tr>\n      <th>1</th>\n      <td>wiki</td>\n      <td>2022 FIFA World Cup</td>\n      <td>Overview</td>\n      <td>The FIFA World Cup is a professional football ...</td>\n      <td>129</td>\n    </tr>\n    <tr>\n      <th>2</th>\n      <td>wiki</td>\n      <td>2022 FIFA World Cup</td>\n      <td>Schedule</td>\n      <td>Unlike previous FIFA World Cups, which are typ...</td>\n      <td>276</td>\n    </tr>\n    <tr>\n      <th>3</th>\n      <td>wiki</td>\n      <td>2022 FIFA World Cup</td>\n      <td>Prize money</td>\n      <td>In April 2022, FIFA announced the prizes for a...</td>\n      <td>54</td>\n    </tr>\n    <tr>\n      <th>4</th>\n      <td>wiki</td>\n      <td>2022 FIFA World Cup</td>\n      <td>Rule changes</td>\n      <td>The tournament featured new substitution rules...</td>\n      <td>99</td>\n    </tr>\n    <tr>\n      <th>5</th>\n      <td>wiki</td>\n      <td>2022 FIFA World Cup</td>\n      <td>Host selection</td>\n      <td>The bidding procedure to host the 2018 and 202...</td>\n      <td>191</td>\n    </tr>\n    <tr>\n      <th>6</th>\n      <td>wiki</td>\n      <td>2022 FIFA World Cup</td>\n      <td>Host selection criticism</td>\n      <td>There have been allegations of bribery and cor...</td>\n      <td>668</td>\n    </tr>\n    <tr>\n      <th>7</th>\n      <td>wiki</td>\n      <td>2022 FIFA World Cup</td>\n      <td>Cost of hosting the tournament</td>\n      <td>At an estimated cost of over $220 billion, it ...</td>\n      <td>58</td>\n    </tr>\n    <tr>\n      <th>8</th>\n      <td>wiki</td>\n      <td>2022 FIFA World Cup</td>\n      <td>Venues</td>\n      <td>The first five proposed venues for the World C...</td>\n      <td>459</td>\n    </tr>\n    <tr>\n      <th>9</th>\n      <td>wiki</td>\n      <td>2022 FIFA World Cup</td>\n      <td>Stadiums</td>\n      <td>Team base camps \\nBase camps were used by the ...</td>\n      <td>102</td>\n    </tr>\n  </tbody>\n</table>\n</div>"
          },
          "metadata": {}
        }
      ],
      "execution_count": 3,
      "metadata": {
        "jupyter": {
          "source_hidden": false,
          "outputs_hidden": false
        },
        "nteract": {
          "transient": {
            "deleting": false
          }
        },
        "gather": {
          "logged": 1676800856329
        }
      }
    },
    {
      "cell_type": "markdown",
      "source": [
        "Example of one section:"
      ],
      "metadata": {
        "nteract": {
          "transient": {
            "deleting": false
          }
        }
      }
    },
    {
      "cell_type": "code",
      "source": [
        "idx = 3\r\n",
        "print(\"title: \", df_wiki.title.iloc[idx])\r\n",
        "print(\"heading: \", df_wiki.heading.iloc[idx])\r\n",
        "print(\"text: \", df_wiki.text.iloc[idx])"
      ],
      "outputs": [
        {
          "output_type": "stream",
          "name": "stdout",
          "text": "title:  2022 FIFA World Cup\nheading:  Prize money\ntext:  In April 2022, FIFA announced the prizes for all participating nations. Each qualified team received $1.5 million before the competition to cover preparation costs with each team receiving at least $9 million in prize money. This edition's total prize pool was $440 million, $40 million greater than the prize pool of the previous tournament.\n"
        }
      ],
      "execution_count": 4,
      "metadata": {
        "jupyter": {
          "source_hidden": false,
          "outputs_hidden": false
        },
        "nteract": {
          "transient": {
            "deleting": false
          }
        },
        "gather": {
          "logged": 1676800873034
        }
      }
    },
    {
      "cell_type": "code",
      "source": [
        "print(\"Examples of extracted wiki pages titles:\")\r\n",
        "print(*(\"- \" + df_wiki.title.unique()[:10]), sep='\\n')\r\n"
      ],
      "outputs": [
        {
          "output_type": "stream",
          "name": "stdout",
          "text": "Examples of extracted wiki pages titles:\n- 2022 FIFA World Cup\n- 2022 FIFA World Cup qualification (OFC)\n- Canada v Mexico (2022 FIFA World Cup qualification)\n- 2022 FIFA World Cup Group E\n- 2022 FIFA World Cup qualification – AFC second round\n- 2022 FIFA World Cup qualification – AFC third round\n- 2022 FIFA World Cup qualification – AFC fourth round\n- Human rights issues involving the 2022 FIFA World Cup\n- 2022 FIFA World Cup qualification (CAF)\n- 2022 FIFA World Cup broadcasting rights\n"
        }
      ],
      "execution_count": 5,
      "metadata": {
        "jupyter": {
          "source_hidden": false,
          "outputs_hidden": false
        },
        "nteract": {
          "transient": {
            "deleting": false
          }
        },
        "gather": {
          "logged": 1676800897349
        }
      }
    },
    {
      "cell_type": "markdown",
      "source": [
        "# News API"
      ],
      "metadata": {
        "nteract": {
          "transient": {
            "deleting": false
          }
        }
      }
    },
    {
      "cell_type": "markdown",
      "source": [
        "Use News REST API to get the list of news articles published about a certain topic.\r\n",
        "\r\n",
        "The free subscription allows searching articles up to a month old only.\r\n",
        "\r\n",
        "The News API gets the unformatted content of the article, where available. This is truncated to 200 chars. We can then use `newspaper` python library to extract all content give article's url."
      ],
      "metadata": {
        "nteract": {
          "transient": {
            "deleting": false
          }
        }
      }
    },
    {
      "cell_type": "code",
      "source": [
        "# News API: Extract News article regarding a certain topic.\r\n",
        "# Free API is limited to last 30 days.\r\n",
        "\r\n",
        "NEWS_API_KEY = \"\"\r\n",
        "\r\n",
        "query = \"World Cup 2022\"\r\n",
        "from_date = \"\"\r\n",
        "to_date = \"\"\r\n",
        "\r\n",
        "sort_by = \"popularity\" # popularity, relevancy, publishedAt\r\n",
        "searchIn = \"title\" # match query in title, description, content (can be multiple)\r\n",
        "page_size = 20\r\n",
        "\r\n",
        "df_news = news.get_news_pages(NEWS_API_KEY, query, from_date, to_date, \r\n",
        "                            sort_by, searchIn, page_size)\r\n"
      ],
      "outputs": [
        {
          "output_type": "stream",
          "name": "stdout",
          "text": "Getting page 1...\nGetting page 2...\nNumber of articles: 17\n"
        }
      ],
      "execution_count": 6,
      "metadata": {
        "jupyter": {
          "source_hidden": false,
          "outputs_hidden": false
        },
        "nteract": {
          "transient": {
            "deleting": false
          }
        },
        "gather": {
          "logged": 1676811600196
        }
      }
    },
    {
      "cell_type": "code",
      "source": [
        "df_news.head()"
      ],
      "outputs": [
        {
          "output_type": "execute_result",
          "execution_count": 4,
          "data": {
            "text/plain": "  source                                              title          author  \\\n0   news  US Soccer announces plans to honor Grant Wahl,...  Austin Nivison   \n1   news  FIFA Club World Cup 2022: Al Ahly vs Real Madr...     James Evans   \n2   news  Exploring the FIFA World Cup 2022 using networ...  Ingrid Fadelli   \n3   news  Club World Cup 2022 - How to watch, when is it...     James Evans   \n4   news  Alpine skiing TV, live stream schedule for 202...     OlympicTalk   \n\n                                         description          media  \\\n0  Wahl spent decades covering soccer in the Unit...     CBS Sports   \n1  Real Madrid face Egyptian side Al Ahly in the ...     Daily Mail   \n2  Network science is the study of physical, biol...    Tech Xplore   \n3  Sportsmail breaks down everything you need to ...     Daily Mail   \n4  NBC Sports and Peacock air live coverage of th...  NBCSports.com   \n\n                                                 url           publishedAt  \\\n0  https://www.cbssports.com/soccer/news/us-socce...  2023-01-26T21:08:01Z   \n1  https://www.dailymail.co.uk/sport/football/art...  2023-02-08T10:14:23Z   \n2  https://techxplore.com/news/2023-02-exploring-...  2023-02-02T16:40:01Z   \n3  https://www.dailymail.co.uk/sport/football/art...  2023-02-03T16:34:56Z   \n4  https://olympics.nbcsports.com/2023/01/25/alpi...  2023-01-25T19:20:48Z   \n\n                                                text  words  \n0  U.S. Soccer has announced that it will be hono...    254  \n1  Real Madrid are set to face Al Ahly in the Clu...    649  \n2  Credit: Milan Janosov and Patrik Szigeti.\\nNet...    880  \n3  Carlo Ancelotti's Real Madrid head to Morocco ...   1070  \n4  Click to email a link to a friend (Opens in ne...   1485  ",
            "text/html": "<div>\n<style scoped>\n    .dataframe tbody tr th:only-of-type {\n        vertical-align: middle;\n    }\n\n    .dataframe tbody tr th {\n        vertical-align: top;\n    }\n\n    .dataframe thead th {\n        text-align: right;\n    }\n</style>\n<table border=\"1\" class=\"dataframe\">\n  <thead>\n    <tr style=\"text-align: right;\">\n      <th></th>\n      <th>source</th>\n      <th>title</th>\n      <th>author</th>\n      <th>description</th>\n      <th>media</th>\n      <th>url</th>\n      <th>publishedAt</th>\n      <th>text</th>\n      <th>words</th>\n    </tr>\n  </thead>\n  <tbody>\n    <tr>\n      <th>0</th>\n      <td>news</td>\n      <td>US Soccer announces plans to honor Grant Wahl,...</td>\n      <td>Austin Nivison</td>\n      <td>Wahl spent decades covering soccer in the Unit...</td>\n      <td>CBS Sports</td>\n      <td>https://www.cbssports.com/soccer/news/us-socce...</td>\n      <td>2023-01-26T21:08:01Z</td>\n      <td>U.S. Soccer has announced that it will be hono...</td>\n      <td>254</td>\n    </tr>\n    <tr>\n      <th>1</th>\n      <td>news</td>\n      <td>FIFA Club World Cup 2022: Al Ahly vs Real Madr...</td>\n      <td>James Evans</td>\n      <td>Real Madrid face Egyptian side Al Ahly in the ...</td>\n      <td>Daily Mail</td>\n      <td>https://www.dailymail.co.uk/sport/football/art...</td>\n      <td>2023-02-08T10:14:23Z</td>\n      <td>Real Madrid are set to face Al Ahly in the Clu...</td>\n      <td>649</td>\n    </tr>\n    <tr>\n      <th>2</th>\n      <td>news</td>\n      <td>Exploring the FIFA World Cup 2022 using networ...</td>\n      <td>Ingrid Fadelli</td>\n      <td>Network science is the study of physical, biol...</td>\n      <td>Tech Xplore</td>\n      <td>https://techxplore.com/news/2023-02-exploring-...</td>\n      <td>2023-02-02T16:40:01Z</td>\n      <td>Credit: Milan Janosov and Patrik Szigeti.\\nNet...</td>\n      <td>880</td>\n    </tr>\n    <tr>\n      <th>3</th>\n      <td>news</td>\n      <td>Club World Cup 2022 - How to watch, when is it...</td>\n      <td>James Evans</td>\n      <td>Sportsmail breaks down everything you need to ...</td>\n      <td>Daily Mail</td>\n      <td>https://www.dailymail.co.uk/sport/football/art...</td>\n      <td>2023-02-03T16:34:56Z</td>\n      <td>Carlo Ancelotti's Real Madrid head to Morocco ...</td>\n      <td>1070</td>\n    </tr>\n    <tr>\n      <th>4</th>\n      <td>news</td>\n      <td>Alpine skiing TV, live stream schedule for 202...</td>\n      <td>OlympicTalk</td>\n      <td>NBC Sports and Peacock air live coverage of th...</td>\n      <td>NBCSports.com</td>\n      <td>https://olympics.nbcsports.com/2023/01/25/alpi...</td>\n      <td>2023-01-25T19:20:48Z</td>\n      <td>Click to email a link to a friend (Opens in ne...</td>\n      <td>1485</td>\n    </tr>\n  </tbody>\n</table>\n</div>"
          },
          "metadata": {}
        }
      ],
      "execution_count": 4,
      "metadata": {
        "jupyter": {
          "source_hidden": false,
          "outputs_hidden": false
        },
        "nteract": {
          "transient": {
            "deleting": false
          }
        },
        "gather": {
          "logged": 1676801241262
        }
      }
    },
    {
      "cell_type": "code",
      "source": [
        "print(\"Examples of extracted wiki pages titles:\")\r\n",
        "print(*(\"- \" + df_news.title.unique()[:10]), sep='\\n')"
      ],
      "outputs": [
        {
          "output_type": "stream",
          "name": "stdout",
          "text": "Examples of extracted wiki pages titles:\n- US Soccer announces plans to honor Grant Wahl, journalist who died at 2022 World Cup in Qatar\n- FIFA Club World Cup 2022: Al Ahly vs Real Madrid - start time, how to watch in UK and team news\n- Exploring the FIFA World Cup 2022 using network science\n- Club World Cup 2022 - How to watch, when is it, how do you qualify and who are the players to watch\n- Alpine skiing TV, live stream schedule for 2022-23 World Cup season\n- Al Ahly vs Auckland City: TV Channel, how and where to watch or live stream online free 2022 Club World Cup... - Bolavip\n- Africa: 2022 World Cup Stars Shining At the TotalEnergies CHAN in Algeria\n- Real vô địch FIFA Club World Cup 2022\n- ONCF Joins FIFA in Success of Club World Cup Morocco 2022 (Statement)\n- Rugby: New Black Ferns director of rugby Allan Bunting looking to keep ball rolling after 2022 World Cup success\n"
        }
      ],
      "execution_count": 5,
      "metadata": {
        "jupyter": {
          "source_hidden": false,
          "outputs_hidden": false
        },
        "nteract": {
          "transient": {
            "deleting": false
          }
        },
        "gather": {
          "logged": 1676801269978
        }
      }
    },
    {
      "cell_type": "markdown",
      "source": [
        "Not all titles are relevant to our topic. Event happened 3 month, free api limited to last month."
      ],
      "metadata": {
        "nteract": {
          "transient": {
            "deleting": false
          }
        }
      }
    },
    {
      "cell_type": "code",
      "source": [
        "idx = 2\r\n",
        "print(\"title: \", df_news.title.iloc[idx])\r\n",
        "print(\"author: \", df_news.author.iloc[idx])\r\n",
        "print(\"description: \", df_news.description.iloc[idx])\r\n",
        "print(\"url: \", df_news.url.iloc[idx])\r\n",
        "print(\"text: \", df_news.text.iloc[idx])"
      ],
      "outputs": [
        {
          "output_type": "stream",
          "name": "stdout",
          "text": "title:  Exploring the FIFA World Cup 2022 using network science\nauthor:  Ingrid Fadelli\ndescription:  Network science is the study of physical, biological, social and other phenomena through the creation of network representations. These representations can sometimes offer very valuable insight, unveiling interesting patterns in data and relationships between…\nurl:  https://techxplore.com/news/2023-02-exploring-fifa-world-cup-network.html\ntext:  Credit: Milan Janosov and Patrik Szigeti.\nNetwork science is the study of physical, biological, social and other phenomena through the creation of network representations. These representations can sometimes offer very valuable insight, unveiling interesting patterns in data and relationships between connected entities.\nMilán Janosov and Patrik Szigeti, two data scientists working at Central European University, Baoba Inc. and Revolut recently used network science to examine the FIFA World Cup 2022. The network representations they created, outlined in a paper published on Research Gate, allowed them to shed some new light on the fascinating interconnected world of soccer stars and clubs.\n\"I am not a big soccer fan, so I haven't been closely following the recent FIFA championship either,\" Janosov told Tech Xplore.\n\"However, in my experience, network science and network visualizations are superb in summarizing and explaining complex systems in one image in a quick and objective way. So, I started wondering how much soccer knowledge I could pick up from one network, by answering questions like, who are the key players, and how does the whole ecosystem of soccer stars look like?\"\n\"I thus reached out to my data scientist friend and co-author of this paper, Patrik Szigeti, who is also a self-educated soccer expert, to brainstorm about how we could build this network.\"\nA network is essentially an object that consists of several nodes and links that connect these nodes. Network scientists like Janosov build these networks using data that relates to specific phenomena involving different interconnected parties or entities.\n\"To build a network, we need a data source that shows relationships between the entities we are studying,\" Janosov explained. \"In the example of soccer, this could be a team just as much as individual players. So, first things first—we needed data. This is where expert knowledge is required, which led us to the transfermarkt.com website.\"\nJanosov and Szigeti collected the data necessary to build their FIFA World Cup 2022 Networks from transfermarkt.com, a soccer-related website owned by Axel Springer SE. This website contains a vast amount of information about soccer players and clubs, including players' team memberships and transfer histories, as well as both ongoing and past championship results.\n\"This kind of data is very much relational, so it can serve as a perfect input for network science—not surprisingly, building the team membership network of players was pretty straightforward,\" Janosov said. \"Basically, if two players were on the same team during the same year, we considered them linked.\"\nThe player network representation created by the researchers contained 830 players, who were found to be linked to each other through approximately 6,400 past or present teammate relationships (i.e., they had been or were currently playing for the same team). The so-called average path length was 3, which essentially means that if two players were randomly selected from all of those playing in the FIFA World Cup, they would most likely both have had teammates who played for the same club at some point.\n\"Building a network of soccer clubs proved to be trickier,\" Janosov explained. \"In this case, we wanted to capture which clubs are the main centers of gravity based on the typical directions in which players sign on and off.\"\nTo visually represent soccer clubs, Janosov and Szigeti extracted the club history of individual players and then organized links in their network to follow each player's unique professional path (i.e., from which teams and to which teams they transferred). This allowed them to uncover some very interesting patterns.\n\"One of the most exciting observations we gathered looking at the club network is that, apparently, there are two main groups of clubs: spenders and mentors,\" Janosov said. \"Mentors usually acquire players at an earlier stage of their career and for less cash, then sell them later for the big bucks. Spenders, on the other hand, reverse the flow of money and talent, and instead of training their own, they simply spend a tremendous amount on hiring stars.\"\nUltimately, Janosov and Szigeti also tried to use machine learning to predict some of the final World Cup rankings. Their model's predictions were not particularly accurate, as it yielded a modest accuracy of 60%. Nonetheless, their analyses identified some of the most relevant features when trying to predict a club ranking, such as the current market value of its players.\n\"While we are certainly not bookies, we gave a shot at trying to explain some parts of the final ranking of the World Cup using a simple machine learning model, fed with the network characteristics and market value of the players,\" Janosov said. \"This analysis didn't yield particularly high accuracy, yet it was certainly cool to see that network features had significant predictive power as compared to the financials.\"\nThis recent study is merely the latest of a series of works by Janosov that looked at popular culture phenomena, including TV-series and movies, through the lens of network science. His efforts show just how valuable this emerging field of research can be when trying to better understand the connections underpinning social phenomena.\n\"In my next works, I plan to use network science to dive deeper into sustainability,\" Janosov added.\nMore information: Milan Janosov et al, FIFA World Cup 2022—The Network Edition, Unpublished (2023). DOI: 10.13140/rg.2.2.20650.29129\n© 2023 Science X Network\n"
        }
      ],
      "execution_count": 6,
      "metadata": {
        "jupyter": {
          "source_hidden": false,
          "outputs_hidden": false
        },
        "nteract": {
          "transient": {
            "deleting": false
          }
        },
        "gather": {
          "logged": 1676801279424
        }
      }
    },
    {
      "cell_type": "markdown",
      "source": [
        "# Twitter"
      ],
      "metadata": {
        "nteract": {
          "transient": {
            "deleting": false
          }
        }
      }
    },
    {
      "cell_type": "code",
      "source": [
        "# twitter api is limited to last 7 days\r\n",
        "\r\n",
        "TWITTER_API_KEY = \"\"\r\n",
        "TWITTER_API_SECRET_KEY = \"\"\r\n",
        "TWITTER_ACCESS_TOKEN = \"\"\r\n",
        "TWITTER_ACCESS_TOKEN_SECRET = \"\"\r\n",
        "\r\n",
        "query = \"Fifa World Cup\"\r\n",
        "language = \"en\"\r\n",
        "num_tweets = 1000\r\n",
        "include_RTs = False\r\n",
        "\r\n",
        "auth_api = twitter.twitter_api_auth(TWITTER_API_KEY, TWITTER_API_SECRET_KEY, TWITTER_ACCESS_TOKEN, TWITTER_ACCESS_TOKEN_SECRET)\r\n",
        "df_twitter = twitter.get_tweets(query, language, num_tweets, auth_api, include_RTs)\r\n"
      ],
      "outputs": [
        {
          "output_type": "stream",
          "name": "stdout",
          "text": "Fifa World Cup -filter:retweets\n"
        }
      ],
      "execution_count": 7,
      "metadata": {
        "jupyter": {
          "source_hidden": false,
          "outputs_hidden": false
        },
        "nteract": {
          "transient": {
            "deleting": false
          }
        },
        "gather": {
          "logged": 1676811630476
        }
      }
    },
    {
      "cell_type": "markdown",
      "source": [
        "# ALL DATA"
      ],
      "metadata": {
        "nteract": {
          "transient": {
            "deleting": false
          }
        }
      }
    },
    {
      "cell_type": "markdown",
      "source": [
        "Concatenate all data content together in one dataframe"
      ],
      "metadata": {
        "nteract": {
          "transient": {
            "deleting": false
          }
        }
      }
    },
    {
      "cell_type": "code",
      "source": [
        "df = pd.concat([df_wiki, df_news, df_twitter],join='inner', ignore_index=True)\r\n",
        "df.head()\r\n"
      ],
      "outputs": [
        {
          "output_type": "execute_result",
          "execution_count": 74,
          "data": {
            "text/plain": "  source                                               text  words\n0   wiki  The 2022 FIFA World Cup was an international f...    354\n1   wiki  The FIFA World Cup is a professional football ...    129\n2   wiki  Unlike previous FIFA World Cups, which are typ...    276\n3   wiki  In April 2022, FIFA announced the prizes for a...     54\n4   wiki  The tournament featured new substitution rules...     99",
            "text/html": "<div>\n<style scoped>\n    .dataframe tbody tr th:only-of-type {\n        vertical-align: middle;\n    }\n\n    .dataframe tbody tr th {\n        vertical-align: top;\n    }\n\n    .dataframe thead th {\n        text-align: right;\n    }\n</style>\n<table border=\"1\" class=\"dataframe\">\n  <thead>\n    <tr style=\"text-align: right;\">\n      <th></th>\n      <th>source</th>\n      <th>text</th>\n      <th>words</th>\n    </tr>\n  </thead>\n  <tbody>\n    <tr>\n      <th>0</th>\n      <td>wiki</td>\n      <td>The 2022 FIFA World Cup was an international f...</td>\n      <td>354</td>\n    </tr>\n    <tr>\n      <th>1</th>\n      <td>wiki</td>\n      <td>The FIFA World Cup is a professional football ...</td>\n      <td>129</td>\n    </tr>\n    <tr>\n      <th>2</th>\n      <td>wiki</td>\n      <td>Unlike previous FIFA World Cups, which are typ...</td>\n      <td>276</td>\n    </tr>\n    <tr>\n      <th>3</th>\n      <td>wiki</td>\n      <td>In April 2022, FIFA announced the prizes for a...</td>\n      <td>54</td>\n    </tr>\n    <tr>\n      <th>4</th>\n      <td>wiki</td>\n      <td>The tournament featured new substitution rules...</td>\n      <td>99</td>\n    </tr>\n  </tbody>\n</table>\n</div>"
          },
          "metadata": {}
        }
      ],
      "execution_count": 74,
      "metadata": {
        "jupyter": {
          "source_hidden": false,
          "outputs_hidden": false
        },
        "nteract": {
          "transient": {
            "deleting": false
          }
        },
        "gather": {
          "logged": 1676848533450
        }
      }
    },
    {
      "cell_type": "code",
      "source": [
        "df['source'].value_counts()"
      ],
      "outputs": [
        {
          "output_type": "execute_result",
          "execution_count": 75,
          "data": {
            "text/plain": "twitter    1000\nwiki        754\nnews         17\nName: source, dtype: int64"
          },
          "metadata": {}
        }
      ],
      "execution_count": 75,
      "metadata": {
        "jupyter": {
          "source_hidden": false,
          "outputs_hidden": false
        },
        "nteract": {
          "transient": {
            "deleting": false
          }
        },
        "gather": {
          "logged": 1676848534615
        }
      }
    },
    {
      "cell_type": "code",
      "source": [
        "sources = [\r\n",
        "    \"wiki\",\r\n",
        "    #\"news\", \r\n",
        "    #\"twitter\"\r\n",
        "]\r\n",
        "\r\n",
        "df = df.loc[df[\"source\"].isin(sources)]\r\n"
      ],
      "outputs": [],
      "execution_count": 76,
      "metadata": {
        "jupyter": {
          "source_hidden": false,
          "outputs_hidden": false
        },
        "nteract": {
          "transient": {
            "deleting": false
          }
        },
        "gather": {
          "logged": 1676848535307
        }
      }
    },
    {
      "cell_type": "markdown",
      "source": [
        "Number of Sections in data:"
      ],
      "metadata": {
        "nteract": {
          "transient": {
            "deleting": false
          }
        }
      }
    },
    {
      "cell_type": "code",
      "source": [
        "len(df)"
      ],
      "outputs": [
        {
          "output_type": "execute_result",
          "execution_count": 77,
          "data": {
            "text/plain": "754"
          },
          "metadata": {}
        }
      ],
      "execution_count": 77,
      "metadata": {
        "jupyter": {
          "source_hidden": false,
          "outputs_hidden": false
        },
        "nteract": {
          "transient": {
            "deleting": false
          }
        },
        "gather": {
          "logged": 1676848537365
        }
      }
    },
    {
      "cell_type": "code",
      "source": [
        "df.to_csv(\"data/fifa_data.csv\")"
      ],
      "outputs": [],
      "execution_count": 78,
      "metadata": {
        "jupyter": {
          "source_hidden": false,
          "outputs_hidden": false
        },
        "nteract": {
          "transient": {
            "deleting": false
          }
        },
        "gather": {
          "logged": 1676848538763
        }
      }
    }
  ],
  "metadata": {
    "kernelspec": {
      "name": "python310-sdkv2",
      "language": "python",
      "display_name": "Python 3.10 - SDK V2"
    },
    "language_info": {
      "name": "python",
      "version": "3.10.6",
      "mimetype": "text/x-python",
      "codemirror_mode": {
        "name": "ipython",
        "version": 3
      },
      "pygments_lexer": "ipython3",
      "nbconvert_exporter": "python",
      "file_extension": ".py"
    },
    "kernel_info": {
      "name": "python310-sdkv2"
    },
    "microsoft": {
      "host": {
        "AzureML": {
          "notebookHasBeenCompleted": true
        }
      },
      "ms_spell_check": {
        "ms_spell_check_language": "en"
      }
    },
    "nteract": {
      "version": "nteract-front-end@1.0.0"
    }
  },
  "nbformat": 4,
  "nbformat_minor": 2
}