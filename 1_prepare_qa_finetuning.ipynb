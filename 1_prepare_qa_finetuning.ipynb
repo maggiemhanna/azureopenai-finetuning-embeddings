{
  "cells": [
    {
      "cell_type": "code",
      "source": [
        "import pandas as pd\r\n",
        "import openai\r\n",
        "from src import wiki, news, twitter\r\n",
        "import os\r\n",
        "\r\n",
        "import warnings\r\n",
        "from pprint import pprint\r\n",
        "\r\n",
        "warnings.filterwarnings(\"ignore\")"
      ],
      "outputs": [],
      "execution_count": 13,
      "metadata": {
        "jupyter": {
          "source_hidden": false,
          "outputs_hidden": false
        },
        "nteract": {
          "transient": {
            "deleting": false
          }
        },
        "gather": {
          "logged": 1676883023680
        }
      }
    },
    {
      "cell_type": "code",
      "source": [
        "# Azure OpenAI \r\n",
        "# Insert your API endpoint URL & key\r\n",
        "openai.api_type = \"azure\"\r\n",
        "openai.api_version = \"2022-12-01\"\r\n",
        "openai.api_base = \"\"\r\n",
        "openai.api_key = \"\""
      ],
      "outputs": [],
      "execution_count": 14,
      "metadata": {
        "jupyter": {
          "source_hidden": false,
          "outputs_hidden": false
        },
        "nteract": {
          "transient": {
            "deleting": false
          }
        },
        "gather": {
          "logged": 1676883024271
        }
      }
    },
    {
      "cell_type": "markdown",
      "source": [
        "# Read Data"
      ],
      "metadata": {
        "nteract": {
          "transient": {
            "deleting": false
          }
        }
      }
    },
    {
      "cell_type": "code",
      "source": [
        "df = pd.read_csv(\"data/fifa_data.csv\", index_col=0)\r\n",
        "df = df.iloc[:10]\r\n",
        "df.head()"
      ],
      "outputs": [
        {
          "output_type": "execute_result",
          "execution_count": 31,
          "data": {
            "text/plain": "  source                                               text  words\n0   wiki  The 2022 FIFA World Cup was an international f...    354\n1   wiki  The FIFA World Cup is a professional football ...    129\n2   wiki  Unlike previous FIFA World Cups, which are typ...    276\n3   wiki  In April 2022, FIFA announced the prizes for a...     54\n4   wiki  The tournament featured new substitution rules...     99",
            "text/html": "<div>\n<style scoped>\n    .dataframe tbody tr th:only-of-type {\n        vertical-align: middle;\n    }\n\n    .dataframe tbody tr th {\n        vertical-align: top;\n    }\n\n    .dataframe thead th {\n        text-align: right;\n    }\n</style>\n<table border=\"1\" class=\"dataframe\">\n  <thead>\n    <tr style=\"text-align: right;\">\n      <th></th>\n      <th>source</th>\n      <th>text</th>\n      <th>words</th>\n    </tr>\n  </thead>\n  <tbody>\n    <tr>\n      <th>0</th>\n      <td>wiki</td>\n      <td>The 2022 FIFA World Cup was an international f...</td>\n      <td>354</td>\n    </tr>\n    <tr>\n      <th>1</th>\n      <td>wiki</td>\n      <td>The FIFA World Cup is a professional football ...</td>\n      <td>129</td>\n    </tr>\n    <tr>\n      <th>2</th>\n      <td>wiki</td>\n      <td>Unlike previous FIFA World Cups, which are typ...</td>\n      <td>276</td>\n    </tr>\n    <tr>\n      <th>3</th>\n      <td>wiki</td>\n      <td>In April 2022, FIFA announced the prizes for a...</td>\n      <td>54</td>\n    </tr>\n    <tr>\n      <th>4</th>\n      <td>wiki</td>\n      <td>The tournament featured new substitution rules...</td>\n      <td>99</td>\n    </tr>\n  </tbody>\n</table>\n</div>"
          },
          "metadata": {}
        }
      ],
      "execution_count": 31,
      "metadata": {
        "jupyter": {
          "source_hidden": false,
          "outputs_hidden": false
        },
        "nteract": {
          "transient": {
            "deleting": false
          }
        },
        "gather": {
          "logged": 1677228844235
        }
      }
    },
    {
      "cell_type": "markdown",
      "source": [
        "# Generate Questions "
      ],
      "metadata": {
        "nteract": {
          "transient": {
            "deleting": false
          }
        }
      }
    },
    {
      "cell_type": "code",
      "source": [
        "def get_questions(context):\r\n",
        "    try:\r\n",
        "        response = openai.Completion.create(\r\n",
        "            engine=\"text-davinci-003-base\",\r\n",
        "            prompt=f\"Write all possible questions that can be answered from the text below. \\n\\nText: {context}\\n\\nQuestions:\\n1.\",\r\n",
        "            temperature=0,\r\n",
        "            max_tokens=400,\r\n",
        "            top_p=1,\r\n",
        "            frequency_penalty=0,\r\n",
        "            presence_penalty=0,\r\n",
        "            stop=[\"\\n\\n\"]\r\n",
        "        )\r\n",
        "        return response['choices'][0]['text']\r\n",
        "    except:\r\n",
        "        return \"\"\r\n",
        "\r\n",
        "\r\n",
        "df['questions']= df.text.apply(get_questions)\r\n",
        "df['questions'] = \"1.\" + df.questions"
      ],
      "outputs": [],
      "execution_count": 16,
      "metadata": {
        "jupyter": {
          "source_hidden": false,
          "outputs_hidden": false
        },
        "nteract": {
          "transient": {
            "deleting": false
          }
        },
        "gather": {
          "logged": 1676883044524
        }
      }
    },
    {
      "cell_type": "code",
      "source": [
        "print(df[\"text\"].iloc[4])"
      ],
      "outputs": [
        {
          "output_type": "stream",
          "name": "stdout",
          "text": "The tournament featured new substitution rules whereby teams could make up to five substitutions in normal time, and an additional substitution in extra time. In addition, it was the first World Cup to feature concussion substitutions, whereby each team was permitted to use a maximum of one concussion substitute during a match. A concussion substitution did not count towards a team's quota of regular substitutions. Iranian goalkeeper Alireza Beiranvand suffered a concussion in his country's opening match against England and was replaced by Hossein Hosseini. This was the first use of a dedicated concussion substitute during a World Cup.\n"
        }
      ],
      "execution_count": 17,
      "metadata": {
        "jupyter": {
          "source_hidden": false,
          "outputs_hidden": false
        },
        "nteract": {
          "transient": {
            "deleting": false
          }
        },
        "gather": {
          "logged": 1676883044925
        }
      }
    },
    {
      "cell_type": "code",
      "source": [
        "# Generated Questions Example:\r\n",
        "\r\n",
        "print(df[\"questions\"].iloc[4])"
      ],
      "outputs": [
        {
          "output_type": "stream",
          "name": "stdout",
          "text": "1. How many substitutions were teams allowed to make in normal time during the tournament?\n2. How many additional substitutions were teams allowed to make in extra time?\n3. How many concussion substitutions were teams permitted to use during a match?\n4. Who was the first goalkeeper to be replaced by a concussion substitute during a World Cup?\n5. What match was the first use of a dedicated concussion substitute during a World Cup?\n"
        }
      ],
      "execution_count": 18,
      "metadata": {
        "jupyter": {
          "source_hidden": false,
          "outputs_hidden": false
        },
        "nteract": {
          "transient": {
            "deleting": false
          }
        },
        "gather": {
          "logged": 1676883045290
        }
      }
    },
    {
      "cell_type": "markdown",
      "source": [
        "# Get Answers\r\n",
        "\r\n",
        "Get answers based on context."
      ],
      "metadata": {
        "nteract": {
          "transient": {
            "deleting": false
          }
        }
      }
    },
    {
      "cell_type": "code",
      "source": [
        "def get_answers(row):\r\n",
        "    try:\r\n",
        "        response = openai.Completion.create(\r\n",
        "            engine=\"text-davinci-003-base\",\r\n",
        "            prompt=f\"Write answers to the questions below based on the context given in the text below. \\n\\nText: {row.text}\\n\\nQuestions:\\n{row.questions}\\n\\nAnswers:\\n1.\",\r\n",
        "            temperature=0,\r\n",
        "            max_tokens=500,\r\n",
        "            top_p=1,\r\n",
        "            frequency_penalty=0,\r\n",
        "            presence_penalty=0\r\n",
        "        )\r\n",
        "        return response['choices'][0]['text']\r\n",
        "    except Exception as e:\r\n",
        "        print (e)\r\n",
        "        return \"\"\r\n",
        "\r\n",
        "\r\n",
        "df['answers'] = df.apply(get_answers, axis=1)\r\n",
        "df['answers'] = \"1.\" + df.answers\r\n",
        "df = df.dropna().reset_index().drop('index',axis=1)"
      ],
      "outputs": [],
      "execution_count": 19,
      "metadata": {
        "jupyter": {
          "source_hidden": false,
          "outputs_hidden": false
        },
        "nteract": {
          "transient": {
            "deleting": false
          }
        },
        "gather": {
          "logged": 1676883067507
        }
      }
    },
    {
      "cell_type": "code",
      "source": [
        "# Questions:\r\n",
        "\r\n",
        "print(df[\"questions\"].iloc[4])"
      ],
      "outputs": [
        {
          "output_type": "stream",
          "name": "stdout",
          "text": "1. How many substitutions were teams allowed to make in normal time during the tournament?\n2. How many additional substitutions were teams allowed to make in extra time?\n3. How many concussion substitutions were teams permitted to use during a match?\n4. Who was the first goalkeeper to be replaced by a concussion substitute during a World Cup?\n5. What match was the first use of a dedicated concussion substitute during a World Cup?\n"
        }
      ],
      "execution_count": 20,
      "metadata": {
        "jupyter": {
          "source_hidden": false,
          "outputs_hidden": false
        },
        "nteract": {
          "transient": {
            "deleting": false
          }
        },
        "gather": {
          "logged": 1676883067706
        }
      }
    },
    {
      "cell_type": "code",
      "source": [
        "# Answers:\r\n",
        "\r\n",
        "print(df[\"answers\"].iloc[4])"
      ],
      "outputs": [
        {
          "output_type": "stream",
          "name": "stdout",
          "text": "1. Teams were allowed to make up to five substitutions in normal time.\n2. Teams were allowed to make an additional substitution in extra time.\n3. Teams were permitted to use a maximum of one concussion substitute during a match.\n4. Iranian goalkeeper Alireza Beiranvand was the first goalkeeper to be replaced by a concussion substitute during a World Cup.\n5. The first use of a dedicated concussion substitute during a World Cup was in Iran's opening match against England.\n"
        }
      ],
      "execution_count": 21,
      "metadata": {
        "jupyter": {
          "source_hidden": false,
          "outputs_hidden": false
        },
        "nteract": {
          "transient": {
            "deleting": false
          }
        },
        "gather": {
          "logged": 1676883068138
        }
      }
    },
    {
      "cell_type": "markdown",
      "source": [
        "# Prepare Q&A"
      ],
      "metadata": {
        "nteract": {
          "transient": {
            "deleting": false
          }
        }
      }
    },
    {
      "cell_type": "markdown",
      "source": [
        "Transform questions & answers from numbered bullets into python lists."
      ],
      "metadata": {
        "nteract": {
          "transient": {
            "deleting": false
          }
        }
      }
    },
    {
      "cell_type": "code",
      "source": [
        "import re\r\n",
        "\r\n",
        "def split_text(text):\r\n",
        "    return([x for x in re.split(r'((?:^\\s*\\d+\\. )|(?:\\s+\\d+\\. ))\\s*', \r\n",
        "                            text) if x and not re.match(r\"\\s*\\d+\\. \",x)])\r\n",
        "\r\n",
        "df[\"questions\"] = df.questions.apply(split_text)\r\n",
        "df[\"answers\"] = df.answers.apply(split_text)"
      ],
      "outputs": [],
      "execution_count": 22,
      "metadata": {
        "jupyter": {
          "source_hidden": false,
          "outputs_hidden": false
        },
        "nteract": {
          "transient": {
            "deleting": false
          }
        },
        "gather": {
          "logged": 1676883068400
        }
      }
    },
    {
      "cell_type": "markdown",
      "source": [
        "Transform dataframe into long format where each row is one question & answer."
      ],
      "metadata": {
        "nteract": {
          "transient": {
            "deleting": false
          }
        }
      }
    },
    {
      "cell_type": "code",
      "source": [
        "df.iloc[4].questions"
      ],
      "outputs": [
        {
          "output_type": "execute_result",
          "execution_count": 23,
          "data": {
            "text/plain": "['How many substitutions were teams allowed to make in normal time during the tournament?',\n 'How many additional substitutions were teams allowed to make in extra time?',\n 'How many concussion substitutions were teams permitted to use during a match?',\n 'Who was the first goalkeeper to be replaced by a concussion substitute during a World Cup?',\n 'What match was the first use of a dedicated concussion substitute during a World Cup?']"
          },
          "metadata": {}
        }
      ],
      "execution_count": 23,
      "metadata": {
        "jupyter": {
          "source_hidden": false,
          "outputs_hidden": false
        },
        "nteract": {
          "transient": {
            "deleting": false
          }
        },
        "gather": {
          "logged": 1676883068717
        }
      }
    },
    {
      "cell_type": "code",
      "source": [
        "df[\"qa_match\"] = df.apply(lambda x: len(x[\"questions\"])==len(x[\"answers\"]), axis=1)\r\n",
        "df = df.loc[df['qa_match'] == True]\r\n",
        "df = df.drop(['qa_match'], axis=1)\r\n",
        "df.head()"
      ],
      "outputs": [
        {
          "output_type": "execute_result",
          "execution_count": 24,
          "data": {
            "text/plain": "  source                                               text  words  \\\n0   wiki  The 2022 FIFA World Cup was an international f...    354   \n1   wiki  The FIFA World Cup is a professional football ...    129   \n2   wiki  Unlike previous FIFA World Cups, which are typ...    276   \n3   wiki  In April 2022, FIFA announced the prizes for a...     54   \n4   wiki  The tournament featured new substitution rules...     99   \n\n                                           questions  \\\n0  [What was the 22nd edition of the FIFA World C...   \n1  [When was the first FIFA World Cup held?, How ...   \n2  [What months was the 2022 World Cup played in?...   \n3  [When did FIFA announce the prizes for all par...   \n4  [How many substitutions were teams allowed to ...   \n\n                                             answers  \n0  [The 2022 FIFA World Cup, From 20 November to ...  \n1  [The first FIFA World Cup was held in 1930 in ...  \n2  [The 2022 World Cup was played in November and...  \n3  [FIFA announced the prizes for all participati...  \n4  [Teams were allowed to make up to five substit...  ",
            "text/html": "<div>\n<style scoped>\n    .dataframe tbody tr th:only-of-type {\n        vertical-align: middle;\n    }\n\n    .dataframe tbody tr th {\n        vertical-align: top;\n    }\n\n    .dataframe thead th {\n        text-align: right;\n    }\n</style>\n<table border=\"1\" class=\"dataframe\">\n  <thead>\n    <tr style=\"text-align: right;\">\n      <th></th>\n      <th>source</th>\n      <th>text</th>\n      <th>words</th>\n      <th>questions</th>\n      <th>answers</th>\n    </tr>\n  </thead>\n  <tbody>\n    <tr>\n      <th>0</th>\n      <td>wiki</td>\n      <td>The 2022 FIFA World Cup was an international f...</td>\n      <td>354</td>\n      <td>[What was the 22nd edition of the FIFA World C...</td>\n      <td>[The 2022 FIFA World Cup, From 20 November to ...</td>\n    </tr>\n    <tr>\n      <th>1</th>\n      <td>wiki</td>\n      <td>The FIFA World Cup is a professional football ...</td>\n      <td>129</td>\n      <td>[When was the first FIFA World Cup held?, How ...</td>\n      <td>[The first FIFA World Cup was held in 1930 in ...</td>\n    </tr>\n    <tr>\n      <th>2</th>\n      <td>wiki</td>\n      <td>Unlike previous FIFA World Cups, which are typ...</td>\n      <td>276</td>\n      <td>[What months was the 2022 World Cup played in?...</td>\n      <td>[The 2022 World Cup was played in November and...</td>\n    </tr>\n    <tr>\n      <th>3</th>\n      <td>wiki</td>\n      <td>In April 2022, FIFA announced the prizes for a...</td>\n      <td>54</td>\n      <td>[When did FIFA announce the prizes for all par...</td>\n      <td>[FIFA announced the prizes for all participati...</td>\n    </tr>\n    <tr>\n      <th>4</th>\n      <td>wiki</td>\n      <td>The tournament featured new substitution rules...</td>\n      <td>99</td>\n      <td>[How many substitutions were teams allowed to ...</td>\n      <td>[Teams were allowed to make up to five substit...</td>\n    </tr>\n  </tbody>\n</table>\n</div>"
          },
          "metadata": {}
        }
      ],
      "execution_count": 24,
      "metadata": {
        "jupyter": {
          "source_hidden": false,
          "outputs_hidden": false
        },
        "nteract": {
          "transient": {
            "deleting": false
          }
        },
        "gather": {
          "logged": 1676883068892
        }
      }
    },
    {
      "cell_type": "code",
      "source": [
        "df.head(11)"
      ],
      "outputs": [
        {
          "output_type": "execute_result",
          "execution_count": 25,
          "data": {
            "text/plain": "  source                                               text  words  \\\n0   wiki  The 2022 FIFA World Cup was an international f...    354   \n1   wiki  The FIFA World Cup is a professional football ...    129   \n2   wiki  Unlike previous FIFA World Cups, which are typ...    276   \n3   wiki  In April 2022, FIFA announced the prizes for a...     54   \n4   wiki  The tournament featured new substitution rules...     99   \n5   wiki  The bidding procedure to host the 2018 and 202...    191   \n6   wiki  There have been allegations of bribery and cor...    668   \n7   wiki  At an estimated cost of over $220 billion, it ...     58   \n8   wiki  The first five proposed venues for the World C...    459   \n9   wiki  Team base camps \\nBase camps were used by the ...    102   \n\n                                           questions  \\\n0  [What was the 22nd edition of the FIFA World C...   \n1  [When was the first FIFA World Cup held?, How ...   \n2  [What months was the 2022 World Cup played in?...   \n3  [When did FIFA announce the prizes for all par...   \n4  [How many substitutions were teams allowed to ...   \n5  [How many bids were made for the 2018 FIFA Wor...   \n6  [What allegations of corruption have been made...   \n7  [What is the estimated cost of the most expens...   \n8  [What were the terms of reference for the desi...   \n9  [What is the purpose of team base camps?, How ...   \n\n                                             answers  \n0  [The 2022 FIFA World Cup, From 20 November to ...  \n1  [The first FIFA World Cup was held in 1930 in ...  \n2  [The 2022 World Cup was played in November and...  \n3  [FIFA announced the prizes for all participati...  \n4  [Teams were allowed to make up to five substit...  \n5  [11 bids were made for the 2018 FIFA World Cup...  \n6  [Allegations of bribery and corruption in the ...  \n7  [The estimated cost of the most expensive Worl...  \n8  [The terms of reference for the design of the ...  \n9  [The purpose of team base camps is to stay and...  ",
            "text/html": "<div>\n<style scoped>\n    .dataframe tbody tr th:only-of-type {\n        vertical-align: middle;\n    }\n\n    .dataframe tbody tr th {\n        vertical-align: top;\n    }\n\n    .dataframe thead th {\n        text-align: right;\n    }\n</style>\n<table border=\"1\" class=\"dataframe\">\n  <thead>\n    <tr style=\"text-align: right;\">\n      <th></th>\n      <th>source</th>\n      <th>text</th>\n      <th>words</th>\n      <th>questions</th>\n      <th>answers</th>\n    </tr>\n  </thead>\n  <tbody>\n    <tr>\n      <th>0</th>\n      <td>wiki</td>\n      <td>The 2022 FIFA World Cup was an international f...</td>\n      <td>354</td>\n      <td>[What was the 22nd edition of the FIFA World C...</td>\n      <td>[The 2022 FIFA World Cup, From 20 November to ...</td>\n    </tr>\n    <tr>\n      <th>1</th>\n      <td>wiki</td>\n      <td>The FIFA World Cup is a professional football ...</td>\n      <td>129</td>\n      <td>[When was the first FIFA World Cup held?, How ...</td>\n      <td>[The first FIFA World Cup was held in 1930 in ...</td>\n    </tr>\n    <tr>\n      <th>2</th>\n      <td>wiki</td>\n      <td>Unlike previous FIFA World Cups, which are typ...</td>\n      <td>276</td>\n      <td>[What months was the 2022 World Cup played in?...</td>\n      <td>[The 2022 World Cup was played in November and...</td>\n    </tr>\n    <tr>\n      <th>3</th>\n      <td>wiki</td>\n      <td>In April 2022, FIFA announced the prizes for a...</td>\n      <td>54</td>\n      <td>[When did FIFA announce the prizes for all par...</td>\n      <td>[FIFA announced the prizes for all participati...</td>\n    </tr>\n    <tr>\n      <th>4</th>\n      <td>wiki</td>\n      <td>The tournament featured new substitution rules...</td>\n      <td>99</td>\n      <td>[How many substitutions were teams allowed to ...</td>\n      <td>[Teams were allowed to make up to five substit...</td>\n    </tr>\n    <tr>\n      <th>5</th>\n      <td>wiki</td>\n      <td>The bidding procedure to host the 2018 and 202...</td>\n      <td>191</td>\n      <td>[How many bids were made for the 2018 FIFA Wor...</td>\n      <td>[11 bids were made for the 2018 FIFA World Cup...</td>\n    </tr>\n    <tr>\n      <th>6</th>\n      <td>wiki</td>\n      <td>There have been allegations of bribery and cor...</td>\n      <td>668</td>\n      <td>[What allegations of corruption have been made...</td>\n      <td>[Allegations of bribery and corruption in the ...</td>\n    </tr>\n    <tr>\n      <th>7</th>\n      <td>wiki</td>\n      <td>At an estimated cost of over $220 billion, it ...</td>\n      <td>58</td>\n      <td>[What is the estimated cost of the most expens...</td>\n      <td>[The estimated cost of the most expensive Worl...</td>\n    </tr>\n    <tr>\n      <th>8</th>\n      <td>wiki</td>\n      <td>The first five proposed venues for the World C...</td>\n      <td>459</td>\n      <td>[What were the terms of reference for the desi...</td>\n      <td>[The terms of reference for the design of the ...</td>\n    </tr>\n    <tr>\n      <th>9</th>\n      <td>wiki</td>\n      <td>Team base camps \\nBase camps were used by the ...</td>\n      <td>102</td>\n      <td>[What is the purpose of team base camps?, How ...</td>\n      <td>[The purpose of team base camps is to stay and...</td>\n    </tr>\n  </tbody>\n</table>\n</div>"
          },
          "metadata": {}
        }
      ],
      "execution_count": 25,
      "metadata": {
        "jupyter": {
          "source_hidden": false,
          "outputs_hidden": false
        },
        "nteract": {
          "transient": {
            "deleting": false
          }
        },
        "gather": {
          "logged": 1676883069148
        }
      }
    },
    {
      "cell_type": "code",
      "source": [
        "df_long = pd.DataFrame()\r\n",
        "for index, cols in df.iterrows():\r\n",
        "    df_extract = pd.DataFrame.from_dict({'questions': cols['questions'], 'answers': cols['answers']})\r\n",
        "    df_long = pd.concat([df_long, df_extract], ignore_index=True)\r\n",
        "\r\n",
        "df_long.rename(columns={\"questions\": \"prompt\", \"answers\": \"completion\"}, inplace=True)"
      ],
      "outputs": [],
      "execution_count": 26,
      "metadata": {
        "jupyter": {
          "source_hidden": false,
          "outputs_hidden": false
        },
        "nteract": {
          "transient": {
            "deleting": false
          }
        },
        "gather": {
          "logged": 1676883069323
        }
      }
    },
    {
      "cell_type": "code",
      "source": [
        "df_long.tail()"
      ],
      "outputs": [
        {
          "output_type": "execute_result",
          "execution_count": 27,
          "data": {
            "text/plain": "                                               prompt  \\\n68  When did FIFA announce the hotels and training...   \n69  How many teams were within a 10 km radius of e...   \n70  Was the 2022 World Cup the most compact since ...   \n71  Did players need to take flights to matches fo...   \n72  Could players remain at the same training base...   \n\n                                           completion  \n68  FIFA announced the hotels and training sites f...  \n69  24 of the 32 teams were within a 10 km radius ...  \n70  Yes, the 2022 World Cup was the most compact s...  \n71  No, players did not need to take flights to ma...  \n72  Yes, players could remain at the same training...  ",
            "text/html": "<div>\n<style scoped>\n    .dataframe tbody tr th:only-of-type {\n        vertical-align: middle;\n    }\n\n    .dataframe tbody tr th {\n        vertical-align: top;\n    }\n\n    .dataframe thead th {\n        text-align: right;\n    }\n</style>\n<table border=\"1\" class=\"dataframe\">\n  <thead>\n    <tr style=\"text-align: right;\">\n      <th></th>\n      <th>prompt</th>\n      <th>completion</th>\n    </tr>\n  </thead>\n  <tbody>\n    <tr>\n      <th>68</th>\n      <td>When did FIFA announce the hotels and training...</td>\n      <td>FIFA announced the hotels and training sites f...</td>\n    </tr>\n    <tr>\n      <th>69</th>\n      <td>How many teams were within a 10 km radius of e...</td>\n      <td>24 of the 32 teams were within a 10 km radius ...</td>\n    </tr>\n    <tr>\n      <th>70</th>\n      <td>Was the 2022 World Cup the most compact since ...</td>\n      <td>Yes, the 2022 World Cup was the most compact s...</td>\n    </tr>\n    <tr>\n      <th>71</th>\n      <td>Did players need to take flights to matches fo...</td>\n      <td>No, players did not need to take flights to ma...</td>\n    </tr>\n    <tr>\n      <th>72</th>\n      <td>Could players remain at the same training base...</td>\n      <td>Yes, players could remain at the same training...</td>\n    </tr>\n  </tbody>\n</table>\n</div>"
          },
          "metadata": {}
        }
      ],
      "execution_count": 27,
      "metadata": {
        "jupyter": {
          "source_hidden": false,
          "outputs_hidden": false
        },
        "nteract": {
          "transient": {
            "deleting": false
          }
        },
        "gather": {
          "logged": 1676883069548
        }
      }
    },
    {
      "cell_type": "markdown",
      "source": [
        "Number of questions & answers in the document"
      ],
      "metadata": {
        "nteract": {
          "transient": {
            "deleting": false
          }
        }
      }
    },
    {
      "cell_type": "code",
      "source": [
        "len(df_long)"
      ],
      "outputs": [
        {
          "output_type": "execute_result",
          "execution_count": 28,
          "data": {
            "text/plain": "73"
          },
          "metadata": {}
        }
      ],
      "execution_count": 28,
      "metadata": {
        "jupyter": {
          "source_hidden": false,
          "outputs_hidden": false
        },
        "nteract": {
          "transient": {
            "deleting": false
          }
        },
        "gather": {
          "logged": 1676883069767
        }
      }
    },
    {
      "cell_type": "markdown",
      "source": [
        "# Save generated Q&A"
      ],
      "metadata": {
        "nteract": {
          "transient": {
            "deleting": false
          }
        }
      }
    },
    {
      "cell_type": "code",
      "source": [
        "df_long.to_json('fifa-data/fifa_qa_gen.jsonl', orient=\"records\", lines=True)"
      ],
      "outputs": [],
      "execution_count": null,
      "metadata": {
        "jupyter": {
          "source_hidden": false,
          "outputs_hidden": false
        },
        "nteract": {
          "transient": {
            "deleting": false
          }
        },
        "gather": {
          "logged": 1676008626660
        }
      }
    }
  ],
  "metadata": {
    "kernelspec": {
      "name": "python310-sdkv2",
      "language": "python",
      "display_name": "Python 3.10 - SDK V2"
    },
    "language_info": {
      "name": "python",
      "version": "3.10.6",
      "mimetype": "text/x-python",
      "codemirror_mode": {
        "name": "ipython",
        "version": 3
      },
      "pygments_lexer": "ipython3",
      "nbconvert_exporter": "python",
      "file_extension": ".py"
    },
    "kernel_info": {
      "name": "python310-sdkv2"
    },
    "microsoft": {
      "host": {
        "AzureML": {
          "notebookHasBeenCompleted": true
        }
      },
      "ms_spell_check": {
        "ms_spell_check_language": "en"
      }
    },
    "nteract": {
      "version": "nteract-front-end@1.0.0"
    }
  },
  "nbformat": 4,
  "nbformat_minor": 2
}