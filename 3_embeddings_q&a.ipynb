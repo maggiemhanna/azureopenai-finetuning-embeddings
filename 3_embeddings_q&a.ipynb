{
  "cells": [
    {
      "cell_type": "markdown",
      "source": [
        "# Question Answering using Embeddings\n",
        "\n",
        "Many use cases require GPT-3 to respond to user questions with insightful answers. For example, a customer support chatbot may need to provide answers to common questions. The GPT models have picked up a lot of general knowledge in training, but we often need to ingest and use a large library of more specific information.\n",
        "\n",
        "In this notebook we will demonstrate a method for enabling GPT-3 able to answer questions using a library of text as a reference, by using document embeddings and retrieval. We'll be using a dataset of Wikipedia articles about the 2022 World Cup Games. "
      ],
      "metadata": {},
      "id": "c4ca8276-e829-4cff-8905-47534e4b4d4e"
    },
    {
      "cell_type": "code",
      "source": [
        "import pandas as pd\n",
        "import openai\n",
        "import numpy as np\n",
        "import pickle\n",
        "from transformers import GPT2TokenizerFast\n",
        "import json\n",
        "\n",
        "COMPLETIONS_MODEL = \"text-davinci-003\""
      ],
      "outputs": [
        {
          "output_type": "stream",
          "name": "stderr",
          "text": "/anaconda/envs/azureml_py310_sdkv2/lib/python3.10/site-packages/tqdm/auto.py:22: TqdmWarning: IProgress not found. Please update jupyter and ipywidgets. See https://ipywidgets.readthedocs.io/en/stable/user_install.html\n  from .autonotebook import tqdm as notebook_tqdm\nNone of PyTorch, TensorFlow >= 2.0, or Flax have been found. Models won't be available and only tokenizers, configuration and file/data utilities can be used.\n"
        }
      ],
      "execution_count": 1,
      "metadata": {
        "gather": {
          "logged": 1677232764451
        }
      },
      "id": "9e3839a6-9146-4f60-b74b-19abbc24278d"
    },
    {
      "cell_type": "code",
      "source": [
        "# Azure OpenAI \r\n",
        "# Insert your API endpoint URL & key\r\n",
        "openai.api_type = \"azure\"\r\n",
        "openai.api_version = \"2022-12-01\"\r\n",
        "openai.api_base = \"\"\r\n",
        "openai.api_key = \"\""
      ],
      "outputs": [],
      "execution_count": 3,
      "metadata": {
        "jupyter": {
          "source_hidden": false,
          "outputs_hidden": false
        },
        "nteract": {
          "transient": {
            "deleting": false
          }
        },
        "gather": {
          "logged": 1677232764900
        }
      },
      "id": "4478b9c1-0910-476c-b95d-203ce0aa6603"
    },
    {
      "cell_type": "markdown",
      "source": [
        "By default, GPT-3 isn't an expert on the 2022 Fifa World Cup:"
      ],
      "metadata": {},
      "id": "9312f62f-e208-4030-a648-71ad97aee74f"
    },
    {
      "cell_type": "code",
      "source": [
        "prompt = \"Who won the 2022 Fifa World Cup?\"\n",
        "\n",
        "openai.Completion.create(\n",
        "    model=COMPLETIONS_MODEL, \n",
        "    prompt=prompt,\n",
        "    temperature=0,\n",
        "    max_tokens=300,\n",
        "    top_p=1,\n",
        "    frequency_penalty=0,\n",
        "    presence_penalty=0,\n",
        ")[\"choices\"][0][\"text\"].strip(\" \\n\")"
      ],
      "outputs": [
        {
          "output_type": "execute_result",
          "execution_count": 4,
          "data": {
            "text/plain": "'The 2022 FIFA World Cup has not yet taken place, so no one has won it yet.'"
          },
          "metadata": {}
        }
      ],
      "execution_count": 4,
      "metadata": {
        "gather": {
          "logged": 1677232766501
        }
      },
      "id": "a167516c-7c19-4bda-afa5-031aa0ae13bb"
    },
    {
      "cell_type": "markdown",
      "source": [
        "To help the model answer the question, we provide extra contextual information in the prompt. When the total required context is short, we can include it in the prompt directly. For example we can use this information taken from Wikipedia. We update the initial prompt to tell the model to explicitly make use of the provided text."
      ],
      "metadata": {},
      "id": "870393c5-f4c3-42aa-8041-fe812d892c01"
    },
    {
      "cell_type": "code",
      "source": [
        "prompt = \"\"\"Answer the question as truthfully as possible using the provided text, and if the answer is not contained within the text below, say \"I don't know\"\n",
        "\n",
        "Context:\n",
        "The 2022 FIFA World Cup was an international football tournament contested by the men's national teams of FIFA's member associations and 22nd edition of the FIFA World Cup. It took place in Qatar from 20 November to 18 December 2022, making it the first World Cup held in the Arab world and Muslim world, and the second held entirely in Asia after the 2002 tournament in South Korea and Japan.\n",
        "\n",
        "This tournament was the last with 32 participating teams, with the number of teams being increased to 48 for the 2026 edition. To avoid the extremes of Qatar's hot climate,the event was held during November and December. It was held over a reduced time frame of 29 days with 64 matches played in eight venues across five cities. Qatar entered the event—their first World Cup—automatically as the host's national team, alongside 31 teams determined by the qualification process.\n",
        "\n",
        "Argentina were crowned the champions after winning the final against the title holder France 4–2 on penalties following a 3–3 draw after extra time. It was Argentina's third title and their first since 1986, as well being the first nation from outside of Europe to win the tournament since 2002. French player Kylian Mbappé became the first player to score a hat-trick in a World Cup final since Geoff Hurst in the 1966 final and won the Golden Boot as he scored the most goals (eight) during the tournament. Argentine captain Lionel Messi was voted the tournament's best player, winning the Golden Ball. Teammates Emiliano Martínez and Enzo Fernández won the Golden Glove, awarded to the tournament's best goalkeeper, and the Young Player Award, awarded to the tournament's best young player, respectively. With 172 goals, the tournament set a new record for the highest number of goals scored with the 32-team format, with every participating team scoring at least one goal.\n",
        "\n",
        "The choice to host the World Cup in Qatar attracted significant criticism, with concerns raised over the country's treatment of migrant workers, women and members of the LGBT community, as well as Qatar's climate, lack of a strong football culture, scheduling changes, and allegations of bribery for hosting rights and wider FIFA corruption.\n",
        "\n",
        "Q: Who won the 2022 Fifa World Cup?\n",
        "A:\"\"\"\n",
        "\n",
        "openai.Completion.create(\n",
        "    model=COMPLETIONS_MODEL,\n",
        "    prompt=prompt,\n",
        "    temperature=0,\n",
        "    max_tokens=300,\n",
        "    top_p=1,\n",
        "    frequency_penalty=0,\n",
        "    presence_penalty=0,\n",
        ")[\"choices\"][0][\"text\"].strip(\" \\n\")"
      ],
      "outputs": [
        {
          "output_type": "execute_result",
          "execution_count": 5,
          "data": {
            "text/plain": "'Argentina won the 2022 FIFA World Cup.'"
          },
          "metadata": {}
        }
      ],
      "execution_count": 5,
      "metadata": {
        "gather": {
          "logged": 1677232767571
        }
      },
      "id": "fceaf665-2602-4788-bc44-9eb256a6f955"
    },
    {
      "cell_type": "markdown",
      "source": [
        "Adding extra information into the prompt only works when the dataset of extra content that the model may need to know is small enough to fit in a single prompt. What do we do when we need the model to choose relevant contextual information from within a large body of information?\n",
        "\n",
        "**In the remainder of this notebook, we will demonstrate a method for augmenting GPT-3 with a large body of additional contextual information by using document embeddings and retrieval.** This method answers queries in two steps: first it retrieves the information relevant to the query, then it writes an answer tailored to the question based on the retrieved information. The first step uses the [Embedding API](https://beta.openai.com/docs/guides/embeddings), the second step uses the [Completions API](https://beta.openai.com/docs/guides/completion/introduction).\n",
        " \n",
        "The steps are:\n",
        "* Preprocess the contextual information by splitting it into chunks and create an embedding vector for each chunk.\n",
        "* On receiving a query, embed the query in the same vector space as the context chunks and find the context embeddings which are most similar to the query.\n",
        "* Prepend the most relevant context embeddings to the query prompt.\n",
        "* Submit the question along with the most relevant context to GPT, and receive an answer which makes use of the provided contextual information."
      ],
      "metadata": {},
      "id": "ee85ee77-d8d2-4788-b57e-0785f2d7e2e3"
    },
    {
      "cell_type": "markdown",
      "source": [
        "# Preprocess the document library / Create Documents Embeddings\n",
        "\n",
        "We plan to use document embeddings to fetch the most relevant part of parts of our document library and insert them into the prompt that we provide to GPT-3. We therefore need to break up the document library into \"sections\" of context, which can be searched and retrieved separately. \n",
        "\n",
        "Sections should be large enough to contain enough information to answer a question; but small enough to fit one or several into the GPT-3 prompt. We find that approximately a paragraph of text is usually a good length, but you should experiment for your particular use case. In this example, Wikipedia articles are already grouped into semantically related headers, so we will use these to define our sections. "
      ],
      "metadata": {},
      "id": "0c9bfea5-a028-4191-b9f1-f210d76ec4e3"
    },
    {
      "cell_type": "code",
      "source": [
        "# We have hosted the processed dataset, so you can download it directly without having to recreate it.\n",
        "# This dataset has already been split into sections, one row for each section of the Wikipedia page.\n",
        "\n",
        "df = pd.read_csv('data/fifa_data.csv', index_col=0)\n",
        "df = df.loc[df['words'] >= 10]\n",
        "print(f\"{len(df)} rows in the data.\")\n",
        "df.sample(5)"
      ],
      "outputs": [
        {
          "output_type": "stream",
          "name": "stdout",
          "text": "530 rows in the data.\n"
        },
        {
          "output_type": "execute_result",
          "execution_count": 6,
          "data": {
            "text/plain": "    source                                               text  words\n554   wiki  The 2022 FIFA World Cup opening ceremony took ...     54\n439   wiki  Paths A and B were affected by the 2022 Russia...    206\n563   wiki  The draw for the second round was held on 21 J...     22\n22    wiki  Group F's first match was a goalless draw betw...    211\n252   wiki  One of the most discussed issues of the Qatar ...    611",
            "text/html": "<div>\n<style scoped>\n    .dataframe tbody tr th:only-of-type {\n        vertical-align: middle;\n    }\n\n    .dataframe tbody tr th {\n        vertical-align: top;\n    }\n\n    .dataframe thead th {\n        text-align: right;\n    }\n</style>\n<table border=\"1\" class=\"dataframe\">\n  <thead>\n    <tr style=\"text-align: right;\">\n      <th></th>\n      <th>source</th>\n      <th>text</th>\n      <th>words</th>\n    </tr>\n  </thead>\n  <tbody>\n    <tr>\n      <th>554</th>\n      <td>wiki</td>\n      <td>The 2022 FIFA World Cup opening ceremony took ...</td>\n      <td>54</td>\n    </tr>\n    <tr>\n      <th>439</th>\n      <td>wiki</td>\n      <td>Paths A and B were affected by the 2022 Russia...</td>\n      <td>206</td>\n    </tr>\n    <tr>\n      <th>563</th>\n      <td>wiki</td>\n      <td>The draw for the second round was held on 21 J...</td>\n      <td>22</td>\n    </tr>\n    <tr>\n      <th>22</th>\n      <td>wiki</td>\n      <td>Group F's first match was a goalless draw betw...</td>\n      <td>211</td>\n    </tr>\n    <tr>\n      <th>252</th>\n      <td>wiki</td>\n      <td>One of the most discussed issues of the Qatar ...</td>\n      <td>611</td>\n    </tr>\n  </tbody>\n</table>\n</div>"
          },
          "metadata": {}
        }
      ],
      "execution_count": 6,
      "metadata": {
        "gather": {
          "logged": 1677232768363
        }
      },
      "id": "cc9c8d69-e234-48b4-87e3-935970e1523a"
    },
    {
      "cell_type": "markdown",
      "source": [
        "We preprocess the document sections by creating an embedding vector for each section. An embedding is a vector of numbers that helps us understand how semantically similar or different the texts are. The closer two embeddings are to each other, the more similar are their contents. See the [documentation on OpenAI embeddings](https://beta.api.openai.org/docs/guides/embeddings/) for more information.\n",
        "\n",
        "This indexing stage can be executed offline and only runs once to precompute the indexes for the dataset so that each piece of content can be retrieved later. Since this is a small example, we will store and search the embeddings locally. If you have a larger dataset, consider using a vector search engine like [Pinecone](https://www.pinecone.io/) or [Weaviate](https://github.com/semi-technologies/weaviate) to power the search.\n",
        "\n",
        "For the purposes of this tutorial we chose to use Ada embeddings V2, which are at a very good price and performance point. Since we will be using these embeddings for retrieval, we’ll use the \"search\" embeddings (see the [documentation](https://openai.com/blog/new-and-improved-embedding-model/))."
      ],
      "metadata": {},
      "id": "a17b88b9-7ea2-491e-9727-12617c74a77d"
    },
    {
      "cell_type": "code",
      "source": [
        "MODEL_NAME = \"ada\"\n",
        "\n",
        "DOC_EMBEDDINGS_MODEL = f\"text-embedding-{MODEL_NAME}-002\"\n",
        "QUERY_EMBEDDINGS_MODEL = f\"text-embedding-{MODEL_NAME}-002\"\n"
      ],
      "outputs": [],
      "execution_count": 7,
      "metadata": {
        "gather": {
          "logged": 1677232768566
        }
      },
      "id": "4b874907-5109-4eef-ad9a-add4367925a3"
    },
    {
      "cell_type": "code",
      "source": [
        "def get_doc_embedding(text: str): # -> list[float]:\n",
        "    result = openai.Embedding.create(\n",
        "      engine=DOC_EMBEDDINGS_MODEL,\n",
        "      input=text\n",
        "    )\n",
        "    return result[\"data\"][0][\"embedding\"]\n",
        "\n",
        "def get_query_embedding(text: str): # -> list[float]:\n",
        "    result = openai.Embedding.create(\n",
        "      engine=QUERY_EMBEDDINGS_MODEL,\n",
        "      input=text\n",
        "    )\n",
        "    return result[\"data\"][0][\"embedding\"]\n",
        "\n",
        "def compute_doc_embeddings(df): # -> dict[tuple[str, str], list[float]]:\n",
        "    \"\"\"\n",
        "    Create an embedding for each row in the dataframe using the OpenAI Embeddings API.\n",
        "    \n",
        "    Return a dictionary that maps between each embedding vector and the index of the row that it corresponds to.\n",
        "    \"\"\"\n",
        "    return {\n",
        "        idx: get_doc_embedding(str(r.text).replace(\"\\n\", \" \")) for idx, r in df.iterrows()\n",
        "    }"
      ],
      "outputs": [],
      "execution_count": 8,
      "metadata": {
        "gather": {
          "logged": 1677232768760
        }
      },
      "id": "ba475f30-ef7f-431c-b60d-d5970b62ad09"
    },
    {
      "cell_type": "markdown",
      "source": [
        "Again, we have hosted the embeddings for you so you don't have to re-calculate them from scratch."
      ],
      "metadata": {},
      "id": "cfe9c723-f838-4c75-8ed8-286b2e491a60"
    },
    {
      "cell_type": "code",
      "source": [
        "document_embeddings = compute_doc_embeddings(df) # maggie - takes 1min 44s for 530 rows"
      ],
      "outputs": [],
      "execution_count": 9,
      "metadata": {
        "gather": {
          "logged": 1677232877220
        }
      },
      "id": "ab50bfca-cb02-41c6-b338-4400abe1d86e"
    },
    {
      "cell_type": "code",
      "source": [
        "# An example embedding:\n",
        "example_entry = list(document_embeddings.items())[0] #replace with document_embeddings if using the load_embeddings call\n",
        "print(f\"{example_entry[0]} : {example_entry[1][:5]}... ({len(example_entry[1])} entries)\")\n",
        "\n",
        "# dict[tuple[str, str], list[float]]:\n",
        "print(\"Vector size:\", len(example_entry[1]))"
      ],
      "outputs": [
        {
          "output_type": "stream",
          "name": "stdout",
          "text": "0 : [-0.0033039876725524664, -0.015193239785730839, 0.03140701726078987, -0.010441366583108902, -0.02467147447168827]... (1536 entries)\nVector size: 1536\n"
        }
      ],
      "execution_count": 10,
      "metadata": {
        "gather": {
          "logged": 1677232877468
        }
      },
      "id": "b9a8c713-c8a9-47dc-85a4-871ee1395566"
    },
    {
      "cell_type": "markdown",
      "source": [
        "So we have split our document library into sections, and encoded them by creating embedding vectors that represent each chunk. Next we will use these embeddings to answer our users' questions.\n",
        "\n",
        "# Find the most similar document embeddings to the question embedding\n",
        "\n",
        "At the time of question-answering, to answer the user's query we compute the query embedding of the question and use it to find the most similar document sections. Since this is a small example, we store and search the embeddings locally. If you have a larger dataset, consider using a vector search engine like [Pinecone](https://www.pinecone.io/) or [Weaviate](https://github.com/semi-technologies/weaviate) to power the search."
      ],
      "metadata": {
        "tags": []
      },
      "id": "aa32cf88-9edb-4dc6-b4cf-a16a8de7d304"
    },
    {
      "cell_type": "code",
      "source": [
        "#def vector_similarity(x: list[float], y: list[float]): # -> float:\n",
        "def vector_similarity(x, y): # -> float:\n",
        "    \"\"\"\n",
        "    We could use cosine similarity or dot product to calculate the similarity between vectors.\n",
        "    In practice, we have found it makes little difference. \n",
        "    \"\"\"\n",
        "    return np.dot(np.array(x), np.array(y))\n",
        "\n",
        "#def order_document_sections_by_query_similarity(query: str, contexts: dict[(str, str), np.array]): # -> list[(float, (str, str))]:\n",
        "def order_document_sections_by_query_similarity(query, contexts): # -> list[(float, (str, str))]:\n",
        "    \"\"\"\n",
        "    Find the query embedding for the supplied query, and compare it against all of the pre-calculated document embeddings\n",
        "    to find the most relevant sections. \n",
        "    \n",
        "    Return the list of document sections, sorted by relevance in descending order.\n",
        "    \"\"\"\n",
        "    query_embedding = get_query_embedding(query)\n",
        "    \n",
        "    document_similarities = sorted([\n",
        "        (vector_similarity(query_embedding, doc_embedding), doc_index) for doc_index, doc_embedding in contexts.items()\n",
        "    ], reverse=True)\n",
        "    \n",
        "    return document_similarities"
      ],
      "outputs": [],
      "execution_count": 11,
      "metadata": {
        "gather": {
          "logged": 1677232877783
        }
      },
      "id": "dcd680e9-f194-4180-b14f-fc357498eb92"
    },
    {
      "cell_type": "code",
      "source": [
        "most_relevant_document_sections = order_document_sections_by_query_similarity(\"Who won Fifa World Cup?\", document_embeddings)[:5]"
      ],
      "outputs": [],
      "execution_count": 12,
      "metadata": {
        "gather": {
          "logged": 1677232878475
        }
      },
      "id": "e3a27d73-f47f-480d-b336-079414f749cb"
    },
    {
      "cell_type": "code",
      "source": [
        "for _, section_index in most_relevant_document_sections:\r\n",
        "    # Add contexts until we run out of space.        \r\n",
        "    document_section = df.loc[section_index]\r\n",
        "    print(document_section.text)"
      ],
      "outputs": [
        {
          "output_type": "stream",
          "name": "stdout",
          "text": "The 2022 FIFA World Cup final was the final match of the 2022 FIFA World Cup, the 22nd edition of FIFA's competition for men's national football teams. The match was played at Lusail Stadium in Lusail, Qatar, on 18 December 2022, the Qatari National Day, and was contested by Argentina and defending champions France. The tournament comprised hosts Qatar and 31 other teams who emerged from the qualification phase, organised by the six FIFA confederations. The 32 teams competed in a group stage, from which 16 teams qualified for the knockout stage. En route to the final, Argentina finished first in Group C, with two wins and one loss, before defeating Australia in the round of 16, the Netherlands in the quarter-final through a penalty shoot-out and Croatia in the semi-final. France finished top of Group D with two wins and one loss, defeating Poland in the round of 16, England in the quarter-final and Morocco in the semi-final. The final took place in front of 88,966 spectators, with more than 1.5 billion people watching on television, and was refereed by Szymon Marciniak.\nArgentina took the lead through a penalty by Lionel Messi in the 23rd minute before Ángel Di María further increased their lead in the 36th minute with a low shot into the corner of the goal after a sweeping Argentina counterattack. France failed to register a shot on goal for the vast majority of the match until a 97-second brace by Kylian Mbappé tied the game 2-2 in the 81st minute. During extra time, Messi then scored again to give Argentina a 3–2 lead. However, Mbappé scored another penalty to tie the game 3-3 with only minutes remaining, becoming the second man to score a hat-trick in a World Cup final, after Geoff Hurst in 1966. Argentina then won the ensuing penalty shoot-out 4–2 to win their third World Cup, and first since 1986.\nArgentina became the second team after Spain in 2010 to win the World Cup after losing their opening game. France became the first team to score three goals in a World Cup final and lose. Messi was named the man of the match, and won the Golden Ball as FIFA's best player of the tournament. The final has since been widely praised and regarded as the greatest FIFA World Cup final of all time, and one of the greatest matches in the history of the sport due to its back-and-forth nature, exciting storyline, and role in football history.\nArgentina had won the World Cup twice before, in 1978 and 1986. They had also finished as losing finalists thrice, in 1930, 1990 and 2014. After the 2014 final loss, they went on to lose two consecutive Copa América finals to Chile, in 2015 and 2016. After a string of disappointing performances in the 2018 FIFA World Cup, where they lost to eventual champions France in the first knockout round, and the 2019 Copa América, where they finished third, newly-appointed coach Lionel Scaloni led Argentina to their first international title since the 1993 Copa América: Argentina defeated Brazil 1–0 in the 2021 Copa América Final, handing captain Lionel Messi his first international title with Argentina. After winning the 2022 Finalissima, beating European champions Italy 3–0, Argentina entered Qatar as one of the favourites to win.France were the defending champions from the 2018 World Cup, which made this the first time since the 2002 final in which a team had consecutive appearances at the finals, and the first since 1998 in which the title holders qualified for the subsequent final – both feats achieved by Brazil. France had claimed two World Cups, in 1998 and 2018. The French also reached the 2006 final, but fell to Italy on penalties. Under the management of Didier Deschamps, who won the 1998 tournament as a player, the French failed to conquer the 2014 World Cup and UEFA Euros 2016 and 2020, but successfully clinched the 2018 World Cup title. Due to their status as the world champions, France also entered Qatar as one of the favourites to win. France aimed to emulate the achievement of Italy in 1934 and 1938 and Brazil in 1958 and 1962 as the third country to successfully defend the World Cup title. Deschamps was seeking to become the second manager to win two mens' FIFA World Cup titles, after Vittorio Pozzo with Italy in 1934 and 1938. Having won the 1998 tournament as a player, Deschamps was also seeking to become the third person to win three FIFA World Cup titles, after Brazilian legends Pelé (all as a player) and Mário Zagallo (two as a player, one as a manager).The two nations met in the knockout stage for the second straight World Cup. In 2018 in Russia at the Kazan Arena in the round of 16, France won the encounter 4–3 in what The Independent called \"one of the greatest World Cup games of all time\". Antoine Griezmann opened the scoring with a penalty before Ángel Di María and Gabriel Mercado put Argentina in front, with France then scoring the next three goals courtesy of Benjamin Pavard's volley outside of the box – which was later voted as the goal of the tournament – and then Kylian Mbappé twice. Sergio Agüero reduced the deficit to one in stoppage time, but Argentina was unable to equalise and send the match to extra time.The match ball for the 2022 FIFA World Cup semi-finals, third place match and final was announced on 11 December 2022. It was a variation of the Adidas Al Rihla used in the rest of the tournament named the Adidas Al-Hilm, meaning \"The Dream\" in Arabic, a reference to every nation's dream of lifting the FIFA World Cup. Whilst the technical aspects of the ball are the same, the colour is different from the Al-Rihla balls used in the group stages and preceding knockout games, with a Gold Metallic, maroon, Collegiate Burgundy, and red design, a reference to the national colours of host nation Qatar and the golden colours shared by the final's venue Lusail Stadium and the FIFA World Cup Trophy. It is the fifth special ball for FIFA World Cup final matches, after the +Teamgeist Berlin, Jo'bulani, Brazuca Final Rio, and Telstar Mechta.\nPundits, commentators, and audiences praised the intensity, stressful atmosphere, and thrilling back-and-forth nature of the match, highlighting the number of goals scored, and with many media outlets spotlighting it as a duel between Paris Saint-Germain teammates Messi and Mbappé. The match has since been hailed as one of the most exciting World Cup finals, and among the greatest football matches of all time.With the victory, Argentina won their third FIFA World Cup title to surpass France and Uruguay, their titles ranking behind only Brazil's five and the four of Italy and Germany. They became the first South American and first non-European side to win the World Cup since Brazil in 2002, and the first reigning champions of the Copa América to win the World Cup. Argentina also became the second national team, after Spain in 2010, to win the FIFA World Cup after losing their opener. Having won on penalties against the Netherlands in the quarter-finals, Argentina became the first team to have won on that method twice en route to the title. It was the tenth World Cup title for a South American side, and the eighth South American victory in eleven finals facing European opposition. France became the third defending champions to lose in the following final, after Argentina in 1990 and Brazil in 1998. The match was the third FIFA World Cup final to be decided by a penalty shoot-out, after 1994 and 2006, the latter of which France also lost to Italy. This meant that France have never won on penalties in all competitions since the 1998 World Cup quarter-final against Italy. The six goals in the final brought the total number of goals in the tournament to a record 172, surpassing the 171 goals scored in 1998 and 2014.FIFA president Gianni Infantino was present on the pitch stage during the awards ceremony to hand out the medals and present the trophy to the Argentine captain Lionel Messi. He was joined by Qatari Emir Tamim bin Hamad Al Thani, French president Emmanuel Macron, Argentine Football Association president Claudio Tapia, French Football Federation president Noël Le Graët, CONMEBOL president Alejandro Domínguez and UEFA president Aleksander Čeferin. Sergio Batista and Nery Pumpido, World Cup winners with Argentina in 1986, brought the trophy onto the pitch for the ceremony. Before being presented with the trophy by the Emir and Infantino, Messi was given a bisht to wear by the Emir prior to the trophy celebration. The trophy presentation had scenery unlike previous tournaments, with confetti replaced by pyrotechnics and lights.Messi was named as the player of the match and won his second Golden Ball award after 2014 as the best player of the tournament, becoming the first (and so far only) player to receive the award twice. He also won the Silver Boot award with the second-most goals at the tournament, seven. Messi's appearance in the final, his 26th World Cup game, meant he surpassed Lothar Matthäus as the player with the most appearances in the World Cup. With his goals, Messi became the second player to score in the round of 16, quarter-finals, semi-finals and final of a World Cup tournament, after Hungary's György Sárosi in 1938, and the only player to score in all of those knockout rounds as well as the group stage. Having scored once in the previous final, Mbappé's hat-trick made him the highest-scoring player in the final of the World Cup with four goals, surpassing the three of Hurst, Pelé, Vavá and Zinedine Zidane. In addition, with his three goals, he surpassed Messi to win the Golden Boot award as the top scorer of the tournament with eight goals, the most in a World Cup since Brazil's Ronaldo in 2002, and also was awarded the Silver Ball as the second-best player of the World Cup. Argentina's Emiliano Martínez won the Golden Glove award as the best goalkeeper of the tournament, while his teammate Enzo Fernández won the Young Player Award as the best player at the World Cup who is at most 21 (born on or after 1 January 2001).In Argentina, celebrations erupted across the country, most notably in the capital Buenos Aires and in Rosario, Messi's hometown. On 20 December, the celebration in the streets of Buenos Aires after the arrival of the players of Argentina gathered a crowd estimated by local media at over four million people, forcing the team to be airlifted by helicopter out of their bus. On 22 December, the French Football Federation confirmed to have lodged a formal complaint against the Argentine goalkeeper Emiliano Martínez for unsporting behaviour which included incidents such as a sarcastic prayer for silence for French forward Kylian Mbappé in the Argentine locker room after the match, as well as being seen holding and laughing at a toy with a facial cut of Mbappé's face stuck to it during the Argentine victory parade. In France, riots erupted across the country in cities including Paris, Lyon and Nice; these were very similar to those after their victory in 2018, as well as after victories against England and Morocco earlier in the tournament. Some French players like Kingsley Coman, Randal Kolo Muani and Aurélien Tchouaméni were racially abused online due to their performances by their own fans. The racial abuse the French players received was reminiscent of the racial abuse directed at Marcus Rashford, Jadon Sancho and Bukayo Saka after their missed penalty kicks in the UEFA Euro 2020 Final saw Italy win that tournament. Within 48 hours of Messi posting, the Instagram post with World Cup trophy had surpassed 64 million likes, and in doing so, it became the most-liked social media post ever across all social media platforms.\nGroup G of the 2022 FIFA World Cup took place from 24 November to 2 December 2022. The group consisted of Brazil, Serbia, Switzerland and Cameroon. The top two teams, Brazil and Switzerland, advanced to the round of 16. Brazil won the group despite scoring fewer goals than each of their opponents. This was unprecedented in World Cup history. Brazil, Serbia and Switzerland also played in Group E at the previous FIFA World Cup.\nGroup D of the 2022 FIFA World Cup took place from 22 to 30 November 2022. The group consisted of reigning world champions France, Australia, Denmark and Tunisia. The top two teams, France and Australia advanced to the round of 16. Australia, Denmark and France were also in Group C of the previous World Cup.\n"
        }
      ],
      "execution_count": 13,
      "metadata": {
        "jupyter": {
          "source_hidden": false,
          "outputs_hidden": false
        },
        "nteract": {
          "transient": {
            "deleting": false
          }
        },
        "gather": {
          "logged": 1677232878697
        }
      },
      "id": "b07416a3-3030-4309-8a60-0ba20e8c6e7f"
    },
    {
      "cell_type": "markdown",
      "source": [
        "We can see that the most relevant document sections for each question are the summaries for the Men's and Women's high jump competitions - which is exactly what we would expect."
      ],
      "metadata": {},
      "id": "3cf71fae-abb1-46b2-a483-c1b2f1a915c2"
    },
    {
      "cell_type": "markdown",
      "source": [
        "# Add the most relevant document sections to the query prompt\n",
        "\n",
        "Once we've calculated the most relevant pieces of context, we construct a prompt by simply prepending them to the supplied query. It is helpful to use a query separator to help the model distinguish between separate pieces of text."
      ],
      "metadata": {},
      "id": "a0efa0f6-4469-457a-89a4-a2f5736a01e0"
    },
    {
      "cell_type": "code",
      "source": [
        "MAX_SECTION_LEN = 1000\n",
        "SEPARATOR = \"\\n* \""
      ],
      "outputs": [
        {
          "output_type": "execute_result",
          "execution_count": 14,
          "data": {
            "text/plain": "'Context separator contains 3 tokens'"
          },
          "metadata": {}
        }
      ],
      "execution_count": 14,
      "metadata": {
        "gather": {
          "logged": 1677232879055
        }
      },
      "id": "b763ace2-1946-48e0-8ff1-91ba335d47a0"
    },
    {
      "cell_type": "code",
      "source": [
        "#def construct_prompt(question: str, context_embeddings: dict, df: pd.DataFrame) -> str:\n",
        "def construct_prompt(question, context_embeddings, df) -> str:\n",
        "    \"\"\"\n",
        "    Fetch relevant \n",
        "    \"\"\"\n",
        "    most_relevant_document_sections = order_document_sections_by_query_similarity(question, context_embeddings)[:5]\n",
        "    \n",
        "    chosen_sections = []\n",
        "    chosen_sections_len = 0\n",
        "    chosen_sections_indexes = []\n",
        "     \n",
        "    for _, section_index in most_relevant_document_sections:\n",
        "        # Add contexts until we run out of space.        \n",
        "        document_section = df.loc[section_index]\n",
        "            \n",
        "        chosen_sections.append(SEPARATOR + document_section.text.replace(\"\\n\", \" \"))\n",
        "        chosen_sections_indexes.append(str(section_index))\n",
        "    \n",
        "    header = \"\"\"Answer the question as truthfully as possible using the provided context, and if the answer is not contained within the text below, say \"I don't know.\"\\n\\nContext:\\n\"\"\"\n",
        "    \n",
        "    return header + \"\".join(chosen_sections) + \"\\n\\n Q: \" + question + \"\\n A:\""
      ],
      "outputs": [],
      "execution_count": 15,
      "metadata": {
        "gather": {
          "logged": 1677232879358
        }
      },
      "id": "0c5c0509-eeb9-4552-a5d4-6ace04ef73dd"
    },
    {
      "cell_type": "code",
      "source": [
        "prompt = construct_prompt(\n",
        "    \"Who won the 2022 Fifa World Cup?\",\n",
        "    document_embeddings,\n",
        "    df\n",
        ")\n",
        "\n",
        "print(\"===\\n\", prompt)"
      ],
      "outputs": [
        {
          "output_type": "stream",
          "name": "stdout",
          "text": "===\n Answer the question as truthfully as possible using the provided context, and if the answer is not contained within the text below, say \"I don't know.\"\n\nContext:\n\n* The 2022 FIFA World Cup final was the final match of the 2022 FIFA World Cup, the 22nd edition of FIFA's competition for men's national football teams. The match was played at Lusail Stadium in Lusail, Qatar, on 18 December 2022, the Qatari National Day, and was contested by Argentina and defending champions France. The tournament comprised hosts Qatar and 31 other teams who emerged from the qualification phase, organised by the six FIFA confederations. The 32 teams competed in a group stage, from which 16 teams qualified for the knockout stage. En route to the final, Argentina finished first in Group C, with two wins and one loss, before defeating Australia in the round of 16, the Netherlands in the quarter-final through a penalty shoot-out and Croatia in the semi-final. France finished top of Group D with two wins and one loss, defeating Poland in the round of 16, England in the quarter-final and Morocco in the semi-final. The final took place in front of 88,966 spectators, with more than 1.5 billion people watching on television, and was refereed by Szymon Marciniak. Argentina took the lead through a penalty by Lionel Messi in the 23rd minute before Ángel Di María further increased their lead in the 36th minute with a low shot into the corner of the goal after a sweeping Argentina counterattack. France failed to register a shot on goal for the vast majority of the match until a 97-second brace by Kylian Mbappé tied the game 2-2 in the 81st minute. During extra time, Messi then scored again to give Argentina a 3–2 lead. However, Mbappé scored another penalty to tie the game 3-3 with only minutes remaining, becoming the second man to score a hat-trick in a World Cup final, after Geoff Hurst in 1966. Argentina then won the ensuing penalty shoot-out 4–2 to win their third World Cup, and first since 1986. Argentina became the second team after Spain in 2010 to win the World Cup after losing their opening game. France became the first team to score three goals in a World Cup final and lose. Messi was named the man of the match, and won the Golden Ball as FIFA's best player of the tournament. The final has since been widely praised and regarded as the greatest FIFA World Cup final of all time, and one of the greatest matches in the history of the sport due to its back-and-forth nature, exciting storyline, and role in football history.\n* Group D of the 2022 FIFA World Cup took place from 22 to 30 November 2022. The group consisted of reigning world champions France, Australia, Denmark and Tunisia. The top two teams, France and Australia advanced to the round of 16. Australia, Denmark and France were also in Group C of the previous World Cup.\n* The 2022 FIFA World Cup was an association football tournament took place in November and December 2022 involved 32 men's national teams from nations affiliated to the International Federation of Association Football (FIFA). The tournament was broadcast all over the world.\n* Group G of the 2022 FIFA World Cup took place from 24 November to 2 December 2022. The group consisted of Brazil, Serbia, Switzerland and Cameroon. The top two teams, Brazil and Switzerland, advanced to the round of 16. Brazil won the group despite scoring fewer goals than each of their opponents. This was unprecedented in World Cup history. Brazil, Serbia and Switzerland also played in Group E at the previous FIFA World Cup.\n* The 2022 FIFA World Cup was an international football tournament contested by the men's national teams of FIFA's member associations and 22nd edition of the FIFA World Cup. It took place in Qatar from 20 November to 18 December 2022, making it the first World Cup held in the Arab world and Muslim world, and the second held entirely in Asia after the 2002 tournament in South Korea and Japan.This tournament was the last with 32 participating teams, with the number of teams being increased to 48 for the 2026 edition. To avoid the extremes of Qatar's hot climate, the event was held during November and December. It was held over a reduced time frame of 29 days with 64 matches played in eight venues across five cities. Qatar entered the event—their first World Cup—automatically as the host's national team, alongside 31 teams determined by the qualification process. Argentina were crowned the champions after winning the final against the title holder France 4–2 on penalties following a 3–3 draw after extra time. It was Argentina's third title and their first since 1986, as well being the first nation from outside of Europe to win the tournament since 2002. French player Kylian Mbappé became the first player to score a hat-trick in a World Cup final since Geoff Hurst in the 1966 final and won the Golden Boot as he scored the most goals (eight) during the tournament. Argentine captain Lionel Messi was voted the tournament's best player, winning the Golden Ball. Teammates Emiliano Martínez and Enzo Fernández won the Golden Glove, awarded to the tournament's best goalkeeper, and the Young Player Award, awarded to the tournament's best young player, respectively. With 172 goals, the tournament set a new record for the highest number of goals scored with the 32 team format. The choice to host the World Cup in Qatar attracted significant criticism, with concerns raised over the country's treatment of migrant workers, women and members of the LGBT community, as well as Qatar's climate, lack of a strong football culture, scheduling changes, and allegations of bribery for hosting rights and wider FIFA corruption.\n\n Q: Who won the 2022 Fifa World Cup?\n A:\n"
        }
      ],
      "execution_count": 16,
      "metadata": {
        "gather": {
          "logged": 1677232879643
        }
      },
      "id": "f614045a-3917-4b28-9643-7e0c299ec1a7"
    },
    {
      "cell_type": "markdown",
      "source": [
        "We have now obtained the document sections that are most relevant to the question. As a final step, let's put it all together to get an answer to the question.\n",
        "\n",
        "# Answer the user's question based on the context.\n",
        "\n",
        "Now that we've retrieved the relevant context and constructed our prompt, we can finally use the Completions API to answer the user's query."
      ],
      "metadata": {
        "tags": []
      },
      "id": "1b022fd4-0a3c-4ae1-bed1-4c80e4f0fb56"
    },
    {
      "cell_type": "code",
      "source": [
        "COMPLETIONS_API_PARAMS = {\n",
        "    # We use temperature of 0.0 because it gives the most predictable, factual answer.\n",
        "    \"temperature\": 0.0,\n",
        "    \"max_tokens\": 300,\n",
        "    \"model\": COMPLETIONS_MODEL,\n",
        "}"
      ],
      "outputs": [],
      "execution_count": 17,
      "metadata": {
        "gather": {
          "logged": 1677232879935
        }
      },
      "id": "b0edfec7-9243-4573-92e0-253d31c771ad"
    },
    {
      "cell_type": "code",
      "source": [
        "#def answer_query_with_context(\n",
        "#    query: str,\n",
        "#    df: pd.DataFrame,\n",
        "#    document_embeddings: dict[(str, str), np.array],\n",
        "#    show_prompt: bool = False\n",
        "#) -> str:\n",
        "def answer_query_with_context(\n",
        "    query,\n",
        "    df,\n",
        "    document_embeddings,\n",
        "    show_prompt = False\n",
        "):\n",
        "    prompt = construct_prompt(\n",
        "        query,\n",
        "        document_embeddings,\n",
        "        df\n",
        "    )\n",
        "    \n",
        "    if show_prompt:\n",
        "        print(prompt)\n",
        "\n",
        "    response = openai.Completion.create(\n",
        "                prompt=prompt,\n",
        "                **COMPLETIONS_API_PARAMS\n",
        "            )\n",
        "\n",
        "    return response[\"choices\"][0][\"text\"].strip(\" \\n\")"
      ],
      "outputs": [],
      "execution_count": 18,
      "metadata": {
        "gather": {
          "logged": 1677232880685
        }
      },
      "id": "9c1c9a69-848e-4099-a90d-c8da36c153d5"
    },
    {
      "cell_type": "code",
      "source": [
        "answer_query_with_context(\"Who won the 2022 Fifa World Cup?\", df, document_embeddings)"
      ],
      "outputs": [
        {
          "output_type": "execute_result",
          "execution_count": 19,
          "data": {
            "text/plain": "'Argentina won the 2022 FIFA World Cup.'"
          },
          "metadata": {}
        }
      ],
      "execution_count": 19,
      "metadata": {
        "gather": {
          "logged": 1677232881078
        }
      },
      "id": "c233e449-bf33-4c9e-b095-6a4dd278c8fd"
    },
    {
      "cell_type": "markdown",
      "source": [
        "Wow! By combining the Embeddings and Completions APIs, we have created a question-answering model which can answer questions using a large base of additional knowledge. It also understands when it doesn't know the answer! \n",
        "\n",
        "For this example we have used a dataset of Wikipedia articles, but that dataset could be replaced with books, articles, documentation, service manuals, or much much more. **We can't wait to see what you create with GPT-3!**\n",
        "\n",
        "# More Examples\n",
        "\n",
        "Let's have some fun and try some more examples."
      ],
      "metadata": {},
      "id": "7b48d155-d2d4-447c-ab8e-5a5b4722b07c"
    },
    {
      "cell_type": "code",
      "source": [
        "query = \"How did the 2022 Fifa World Cup Final Game go?\"\n",
        "answer = answer_query_with_context(query, df, document_embeddings)\n",
        "\n",
        "print(f\"\\nQ: {query}\\nA: {answer}\")"
      ],
      "outputs": [
        {
          "output_type": "stream",
          "name": "stdout",
          "text": "\nQ: How did the 2022 Fifa World Cup Final Game go?\nA: Argentina won the 2022 FIFA World Cup Final 4–2 on penalties after a 3–3 draw with France after extra time.\n"
        }
      ],
      "execution_count": 20,
      "metadata": {
        "gather": {
          "logged": 1677232882906
        }
      },
      "id": "1127867b-2884-44bb-9439-0e8ae171c835"
    }
  ],
  "metadata": {
    "kernelspec": {
      "name": "python310-sdkv2",
      "language": "python",
      "display_name": "Python 3.10 - SDK V2"
    },
    "language_info": {
      "name": "python",
      "version": "3.10.6",
      "mimetype": "text/x-python",
      "codemirror_mode": {
        "name": "ipython",
        "version": 3
      },
      "pygments_lexer": "ipython3",
      "nbconvert_exporter": "python",
      "file_extension": ".py"
    },
    "vscode": {
      "interpreter": {
        "hash": "365536dcbde60510dc9073d6b991cd35db2d9bac356a11f5b64279a5e6708b97"
      }
    },
    "kernel_info": {
      "name": "python310-sdkv2"
    },
    "microsoft": {
      "host": {
        "AzureML": {
          "notebookHasBeenCompleted": true
        }
      },
      "ms_spell_check": {
        "ms_spell_check_language": "en"
      }
    },
    "nteract": {
      "version": "nteract-front-end@1.0.0"
    }
  },
  "nbformat": 4,
  "nbformat_minor": 5
}